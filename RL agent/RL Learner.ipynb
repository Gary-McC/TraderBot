{
 "cells": [
  {
   "cell_type": "code",
   "execution_count": 36,
   "id": "smaller-arlington",
   "metadata": {},
   "outputs": [],
   "source": [
    "import pandas as pd\n",
    "import tensortrade.env.default as default\n",
    "\n",
    "from tensortrade.data.cdd import CryptoDataDownload\n",
    "from tensortrade.feed.core import Stream, DataFeed\n",
    "from tensortrade.oms.exchanges import Exchange\n",
    "from tensortrade.oms.services.execution.simulated import execute_order\n",
    "from tensortrade.oms.instruments import USD, BTC, ETH\n",
    "from tensortrade.oms.wallets import Wallet, Portfolio\n",
    "from tensortrade.agents import DQNAgent as Agent\n",
    "\n",
    "\n",
    "%matplotlib inline"
   ]
  },
  {
   "cell_type": "code",
   "execution_count": 37,
   "id": "continued-administration",
   "metadata": {},
   "outputs": [],
   "source": [
    "\n",
    "\n",
    "data = pd.read_csv('C:/Users/Annoy/Desktop/Spyder/Useful Code Snippets/Data/Historic BTC-USD data/BTC-USD_Cleaned_Megafile_01_01_2020-12_31_2020.csv')\n",
    "data.drop('Unnamed: 0', axis=1, inplace=True)"
   ]
  },
  {
   "cell_type": "code",
   "execution_count": 38,
   "id": "organized-anniversary",
   "metadata": {},
   "outputs": [
    {
     "data": {
      "text/plain": [
       "Index(['close', 'high', 'low', 'open', 'rel_close', 'rel_high', 'rel_low',\n",
       "       'rel_open', 'rel_volume', 'volume'],\n",
       "      dtype='object')"
      ]
     },
     "execution_count": 38,
     "metadata": {},
     "output_type": "execute_result"
    }
   ],
   "source": [
    "data.columns[1:6].join(data.columns[7:],how='outer')"
   ]
  },
  {
   "cell_type": "code",
   "execution_count": 39,
   "id": "clean-concept",
   "metadata": {},
   "outputs": [],
   "source": [
    "def rsi(price: Stream[float], period: float) -> Stream[float]:\n",
    "    r = price.diff()\n",
    "    upside = r.clamp_min(0).abs()\n",
    "    downside = r.clamp_max(0).abs()\n",
    "    rs = upside.ewm(alpha=1 / period).mean() / downside.ewm(alpha=1 / period).mean()\n",
    "    return 100*(1 - (1 + rs) ** -1)\n",
    "\n",
    "\n",
    "def macd(price: Stream[float], fast: float, slow: float, signal: float) -> Stream[float]:\n",
    "    fm = price.ewm(span=fast, adjust=False).mean()\n",
    "    sm = price.ewm(span=slow, adjust=False).mean()\n",
    "    md = fm - sm\n",
    "    signal = md - md.ewm(span=signal, adjust=False).mean()\n",
    "    return signal\n",
    "\n",
    "\n",
    "features = []\n",
    "for c in data.columns[7:]:\n",
    "    s = Stream.source(list(data[c]), dtype=\"float\").rename(data[c].name)\n",
    "    features += [s]\n",
    "\n",
    "cp = Stream.select(features, lambda s: s.name == \"close\")\n",
    "\n",
    "features = [\n",
    "    cp.log().diff().rename(\"lr\"),\n",
    "    rsi(cp, period=20).rename(\"rsi\"),\n",
    "    macd(cp, fast=10, slow=50, signal=5).rename(\"macd\")\n",
    "]\n",
    "feed = DataFeed(features)\n",
    "feed.compile()"
   ]
  },
  {
   "cell_type": "code",
   "execution_count": 40,
   "id": "bibliographic-attribute",
   "metadata": {},
   "outputs": [
    {
     "name": "stdout",
     "output_type": "stream",
     "text": [
      "{'lr': nan, 'rsi': nan, 'macd': 0.0}\n",
      "{'lr': 0.0003027565518642916, 'rsi': 100.0, 'macd': 0.20629827688632457}\n",
      "{'lr': 0.00048115243209423397, 'rsi': 100.0, 'macd': 0.6262172951062692}\n",
      "{'lr': -0.0001422296593069916, 'rsi': 83.6954567070356, 'macd': 0.6997067175705995}\n",
      "{'lr': 0.0002830449802466717, 'rsi': 87.84667813121295, 'macd': 0.8743509966006069}\n"
     ]
    }
   ],
   "source": [
    "\n",
    "for i in range(5):\n",
    "    print(feed.next())"
   ]
  },
  {
   "cell_type": "code",
   "execution_count": 41,
   "id": "interstate-mumbai",
   "metadata": {},
   "outputs": [],
   "source": [
    "bitstamp = Exchange(\"bitstamp\", service=execute_order)(\n",
    "    Stream.source(list(data[\"close\"]), dtype=\"float\").rename(\"USD-BTC\")\n",
    ")\n",
    "\n",
    "portfolio = Portfolio(USD, [\n",
    "    Wallet(bitstamp, 10000 * USD),\n",
    "    Wallet(bitstamp, 10 * BTC)\n",
    "])\n",
    "\n",
    "\n",
    "renderer_feed = DataFeed([\n",
    "    Stream.source(list(data[\"Date\"])).rename(\"date\"),\n",
    "    Stream.source(list(data[\"open\"]), dtype=\"float\").rename(\"open\"),\n",
    "    Stream.source(list(data[\"high\"]), dtype=\"float\").rename(\"high\"),\n",
    "    Stream.source(list(data[\"low\"]), dtype=\"float\").rename(\"low\"),\n",
    "    Stream.source(list(data[\"close\"]), dtype=\"float\").rename(\"close\"), \n",
    "    Stream.source(list(data[\"volume\"]), dtype=\"float\").rename(\"volume\") \n",
    "])\n",
    "\n",
    "\n",
    "env = default.create(\n",
    "    portfolio=portfolio,\n",
    "    action_scheme=\"managed-risk\",\n",
    "    reward_scheme=\"risk-adjusted\",\n",
    "    feed=feed,\n",
    "    renderer_feed=renderer_feed,\n",
    "    renderer=default.renderers.PlotlyTradingChart(),\n",
    "    window_size=20\n",
    ")"
   ]
  },
  {
   "cell_type": "code",
   "execution_count": 42,
   "id": "announced-motorcycle",
   "metadata": {},
   "outputs": [
    {
     "data": {
      "text/plain": [
       "{'internal': {'bitstamp:/USD-BTC': 7166.39,\n",
       "  'bitstamp:/USD:/free': 10000.0,\n",
       "  'bitstamp:/USD:/locked': 0.0,\n",
       "  'bitstamp:/USD:/total': 10000.0,\n",
       "  'bitstamp:/BTC:/free': 10.0,\n",
       "  'bitstamp:/BTC:/locked': 0.0,\n",
       "  'bitstamp:/BTC:/total': 10.0,\n",
       "  'bitstamp:/BTC:/worth': 71663.90000000001,\n",
       "  'net_worth': 81663.90000000001},\n",
       " 'external': {'lr': nan, 'rsi': nan, 'macd': 0.0},\n",
       " 'renderer': {'date': '01_01_2020',\n",
       "  'open': 7174.33,\n",
       "  'high': 7174.33,\n",
       "  'low': 7165.02,\n",
       "  'close': 7166.39,\n",
       "  'volume': 6.27832277}}"
      ]
     },
     "execution_count": 42,
     "metadata": {},
     "output_type": "execute_result"
    }
   ],
   "source": [
    "env.observer.feed.next()"
   ]
  },
  {
   "cell_type": "code",
   "execution_count": null,
   "id": "recreational-evanescence",
   "metadata": {
    "scrolled": true
   },
   "outputs": [
    {
     "data": {
      "application/vnd.jupyter.widget-view+json": {
       "model_id": "8ca923668cc04ae1acd5e920530d7f7e",
       "version_major": 2,
       "version_minor": 0
      },
      "text/plain": [
       "FigureWidget({\n",
       "    'data': [{'close': array([7166.39, 7168.56, 7172.01, ..., 7202.8 , 7208.81, 7209.81]),\n",
       "    …"
      ]
     },
     "metadata": {},
     "output_type": "display_data"
    },
    {
     "data": {
      "application/vnd.plotly.v1+json": {
       "config": {
        "plotlyServerURL": "https://plot.ly"
       },
       "data": [
        {
         "close": [
          7166.39,
          7168.56,
          7172.01,
          7170.99,
          7173.02,
          7172.86,
          7172.52,
          7172.53,
          7180.75,
          7184.3,
          7181.09,
          7181.99,
          7182,
          7177.58,
          7172.85,
          7167.38,
          7169.72,
          7164.8,
          7164.73,
          7165.19,
          7162.71,
          7161.36,
          7165,
          7165.75,
          7142.43,
          7128.83,
          7135.17,
          7133.53,
          7129.92,
          7136.81,
          7130.92,
          7130.92,
          7141.11,
          7141.1,
          7141.11,
          7141.11,
          7132.62,
          7133.17,
          7130.9,
          7134.42,
          7137,
          7127.26,
          7129.95,
          7128.32,
          7117,
          7108.3,
          7106.93,
          7098.88,
          7119.28,
          7118.98,
          7119.63
         ],
         "high": [
          7174.33,
          7172.54,
          7172.01,
          7172.01,
          7173.02,
          7174.94,
          7172.85,
          7172.53,
          7181.01,
          7186.18,
          7184.3,
          7181.99,
          7182,
          7182,
          7176.31,
          7172.86,
          7169.95,
          7169.72,
          7168.48,
          7165.8,
          7165.2,
          7164.52,
          7165,
          7166.92,
          7165.74,
          7145.88,
          7137.91,
          7136.25,
          7134.41,
          7136.86,
          7136.8,
          7130.92,
          7141.33,
          7141.11,
          7141.11,
          7141.33,
          7141.11,
          7134.87,
          7133.18,
          7134.44,
          7137,
          7137,
          7130.71,
          7129.96,
          7128.33,
          7121.87,
          7108.3,
          7106.93,
          7119.6,
          7120.76,
          7128.05
         ],
         "low": [
          7165.02,
          7160,
          7168.84,
          7170.95,
          7170.98,
          7170.99,
          7172.19,
          7172.52,
          7172.52,
          7179.77,
          7180.65,
          7181.08,
          7180.77,
          7177.58,
          7172.82,
          7167.38,
          7167.37,
          7157.15,
          7159.63,
          7162.54,
          7160.99,
          7158.44,
          7160.93,
          7164.99,
          7135,
          7128.83,
          7128.83,
          7132.58,
          7126.49,
          7129.91,
          7125,
          7130.91,
          7130.91,
          7141.1,
          7141.1,
          7141.1,
          7130,
          7132.62,
          7130.9,
          7120.21,
          7128.69,
          7127.26,
          7122.96,
          7128.32,
          7117,
          7105,
          7103,
          7096.61,
          7089,
          7111.41,
          7117.02
         ],
         "name": "Price",
         "open": [
          7174.33,
          7166.04,
          7169.18,
          7172.01,
          7170.99,
          7174.94,
          7172.85,
          7172.53,
          7172.53,
          7180.84,
          7184.29,
          7181.09,
          7181.99,
          7182,
          7176.31,
          7172.85,
          7167.37,
          7169.71,
          7164.79,
          7164.73,
          7165.19,
          7162.71,
          7161.36,
          7164.99,
          7165.74,
          7142.43,
          7130.54,
          7135.17,
          7133.54,
          7129.91,
          7136.8,
          7130.92,
          7130.91,
          7141.1,
          7141.11,
          7141.11,
          7141.11,
          7132.62,
          7133.18,
          7130.9,
          7134.15,
          7136.99,
          7127.26,
          7129.96,
          7128.33,
          7117,
          7108.29,
          7106.93,
          7098.87,
          7119.28,
          7118.99
         ],
         "showlegend": false,
         "type": "candlestick",
         "uid": "09edf567-cadc-4f7a-9714-4c6a812f96a1",
         "xaxis": "x",
         "yaxis": "y"
        },
        {
         "marker": {
          "color": "DodgerBlue"
         },
         "name": "Volume",
         "showlegend": false,
         "type": "bar",
         "uid": "aa32f881-5229-4fb8-9146-3cba5b69c721",
         "xaxis": "x2",
         "y": [
          6.27832277,
          11.53167255,
          7.46578453,
          6.11743756,
          6.68604702,
          10.78464254,
          7.19926715,
          7.50299101,
          5.11895525,
          9.23054969,
          8.03016611,
          6.09499334,
          4.91928531,
          3.85334257,
          13.86485037,
          19.86766265,
          4.89090748,
          59.11979768,
          13.86503246,
          9.86198642,
          20.2198015,
          16.72186045,
          9.77588274,
          12.85893343,
          95.79786862,
          87.11537654,
          48.81340061,
          27.80524801,
          15.59064837,
          12.7428135,
          15.29235276,
          7.65869164,
          13.37448182,
          5.17705364,
          4.69442777,
          10.68223166,
          57.85410208,
          12.73609457,
          5.89149905,
          33.09189562,
          13.08480911,
          23.2053624,
          11.81538197,
          7.6980272,
          24.26406004,
          75.08815665,
          34.35777912,
          81.81279723,
          73.17096155,
          24.20922552,
          23.08876839
         ],
         "yaxis": "y2"
        },
        {
         "mode": "lines",
         "name": "bitstamp:/USD-BTC",
         "type": "scatter",
         "uid": "2aade552-5af6-40fb-8dc5-64ff50679a70",
         "xaxis": "x3",
         "y": [
          7166.39,
          7168.56,
          7172.01,
          7170.99,
          7173.02,
          7172.86,
          7172.52,
          7172.53,
          7180.75,
          7184.3,
          7181.09,
          7181.99,
          7182,
          7177.58,
          7172.85,
          7167.38,
          7169.72,
          7164.8,
          7164.73,
          7165.19,
          7162.71,
          7161.36,
          7165,
          7165.75,
          7142.43,
          7128.83,
          7135.17,
          7133.53,
          7129.92,
          7136.81,
          7130.92,
          7130.92,
          7141.11,
          7141.1,
          7141.11,
          7141.11,
          7132.62,
          7133.17,
          7130.9,
          7134.42,
          7137,
          7127.26,
          7129.95,
          7128.32,
          7117,
          7108.3,
          7106.93,
          7098.88,
          7119.28,
          7118.98,
          7119.63
         ],
         "yaxis": "y3"
        },
        {
         "mode": "lines",
         "name": "bitstamp:/USD:/free",
         "type": "scatter",
         "uid": "8ba59f44-26ab-4f2d-8f66-7dcec110f44c",
         "xaxis": "x3",
         "y": [
          10000,
          8000,
          7200,
          7200,
          6480,
          3888,
          2721.6,
          816.48,
          653.18,
          522.54,
          522.54,
          418.03,
          292.62,
          263.36,
          263.36,
          184.35,
          147.48,
          103.24,
          92.92,
          74.34,
          66.91,
          46.84,
          37.47,
          29.98,
          29.98,
          29.98,
          23.98,
          23.98,
          23.98,
          19.18,
          19.18,
          15.34,
          15.34,
          15.34,
          15.34,
          15.34,
          15.34,
          15.34,
          15.34,
          15.34,
          15.34,
          15.34,
          15.34,
          15.34,
          9.2,
          5.52,
          5.52,
          5.52,
          5.52,
          5.52,
          5.52
         ],
         "yaxis": "y3"
        },
        {
         "mode": "lines",
         "name": "bitstamp:/USD:/locked",
         "type": "scatter",
         "uid": "894c4969-7e67-47e9-b650-4a1597ab833e",
         "xaxis": "x3",
         "y": [
          0,
          0,
          0,
          14300.99,
          14300.99,
          14300.99,
          14300.99,
          14300.99,
          14300.99,
          14300.99,
          37221.78,
          37221.78,
          37221.78,
          37221.78,
          44091.59,
          44091.59,
          44091.59,
          44091.59,
          44091.59,
          44091.59,
          44091.59,
          44091.59,
          44091.59,
          44091.59,
          44091.59,
          44091.59,
          44091.59,
          46823.28,
          46823.28,
          46823.28,
          46823.28,
          46823.28,
          46823.28,
          46823.28,
          46823.28,
          46823.28,
          46823.28,
          46823.28,
          46823.28,
          46823.28,
          46823.28,
          46823.28,
          46823.28,
          46823.28,
          46823.28,
          46823.28,
          49272.54,
          49272.54,
          49272.54,
          51480.28,
          51480.28
         ],
         "yaxis": "y3"
        },
        {
         "mode": "lines",
         "name": "bitstamp:/USD:/total",
         "type": "scatter",
         "uid": "d92aa5dc-47d4-42b5-8969-98d836cf02af",
         "xaxis": "x3",
         "y": [
          10000,
          8000,
          7200,
          21500.99,
          20780.99,
          18188.99,
          17022.59,
          15117.47,
          14954.17,
          14823.53,
          37744.32,
          37639.81,
          37514.4,
          37485.14,
          44354.95,
          44275.94,
          44239.07,
          44194.83,
          44184.51,
          44165.93,
          44158.5,
          44138.43,
          44129.06,
          44121.57,
          44121.57,
          44121.57,
          44115.57,
          46847.26,
          46847.26,
          46842.46,
          46842.46,
          46838.62,
          46838.62,
          46838.62,
          46838.62,
          46838.62,
          46838.62,
          46838.62,
          46838.62,
          46838.62,
          46838.62,
          46838.62,
          46838.62,
          46838.62,
          46832.48,
          46828.8,
          49278.06,
          49278.06,
          49278.06,
          51485.8,
          51485.8
         ],
         "yaxis": "y3"
        },
        {
         "mode": "lines",
         "name": "bitstamp:/BTC:/free",
         "type": "scatter",
         "uid": "03f2b180-7aca-4b37-bf45-cbc334c4d8dd",
         "xaxis": "x3",
         "y": [
          10,
          10,
          10,
          8,
          8,
          8,
          8,
          8,
          8,
          8,
          4.8,
          4.8,
          4.8,
          4.8,
          3.84,
          3.84,
          3.84,
          3.84,
          3.84,
          3.84,
          3.84,
          3.84,
          3.84,
          3.84,
          3.84,
          3.84,
          3.84,
          3.456,
          3.456,
          3.456,
          3.456,
          3.456,
          3.456,
          3.456,
          3.456,
          3.456,
          3.456,
          3.456,
          3.456,
          3.456,
          3.456,
          3.456,
          3.456,
          3.456,
          3.456,
          3.456,
          3.1104,
          3.1104,
          3.1104,
          2.79936,
          2.79936
         ],
         "yaxis": "y3"
        },
        {
         "mode": "lines",
         "name": "bitstamp:/BTC:/locked",
         "type": "scatter",
         "uid": "60bee418-91d9-4b56-bf2e-83b845cd18fb",
         "xaxis": "x3",
         "y": [
          0,
          0.2782433,
          0.38950693,
          0.38950693,
          0.48961026,
          0.84987971,
          1.01200472,
          1.27682099,
          1.29952009,
          1.31765886,
          1.31765886,
          1.33216919,
          1.34957801,
          1.35363955,
          1.35363955,
          1.36462124,
          1.36975003,
          1.37590229,
          1.37733848,
          1.37992336,
          1.38095753,
          1.38375117,
          1.38505539,
          1.38609796,
          1.38609796,
          1.38609796,
          1.38693681,
          1.38693681,
          1.38693681,
          1.38760863,
          1.38760863,
          1.38814573,
          1.38814573,
          1.38814573,
          1.38814573,
          1.38814573,
          1.38814573,
          1.38814573,
          1.38814573,
          1.38814573,
          1.38814573,
          1.38814573,
          1.38814573,
          1.38814573,
          1.38900428,
          1.38951995,
          1.38951995,
          1.38951995,
          1.38951995,
          1.38951995,
          1.38951995
         ],
         "yaxis": "y3"
        },
        {
         "mode": "lines",
         "name": "bitstamp:/BTC:/total",
         "type": "scatter",
         "uid": "2295a212-b108-4c3a-9cc2-cd67092a0f4e",
         "xaxis": "x3",
         "y": [
          10,
          10.2782433,
          10.38950693,
          8.38950693,
          8.48961026,
          8.84987971,
          9.01200472,
          9.27682099,
          9.29952009,
          9.31765886,
          6.11765886,
          6.13216919,
          6.14957801,
          6.15363955,
          5.19363955,
          5.20462124,
          5.20975003,
          5.21590229,
          5.21733848,
          5.21992336,
          5.22095753,
          5.22375117,
          5.22505539,
          5.22609796,
          5.22609796,
          5.22609796,
          5.22693681,
          4.84293681,
          4.84293681,
          4.84360863,
          4.84360863,
          4.84414573,
          4.84414573,
          4.84414573,
          4.84414573,
          4.84414573,
          4.84414573,
          4.84414573,
          4.84414573,
          4.84414573,
          4.84414573,
          4.84414573,
          4.84414573,
          4.84414573,
          4.84500428,
          4.84551995,
          4.49991995,
          4.49991995,
          4.49991995,
          4.18887995,
          4.18887995
         ],
         "yaxis": "y3"
        },
        {
         "mode": "lines",
         "name": "bitstamp:/BTC:/worth",
         "type": "scatter",
         "uid": "c8916686-15ef-44e6-8bf2-f40e73437ac0",
         "xaxis": "x3",
         "y": [
          71663.90000000001,
          73680.203790648,
          74513.6475970293,
          60161.070299960695,
          60896.1441871852,
          63478.948176670594,
          64638.7840942944,
          66538.27685540469,
          66777.5288862675,
          66940.856547898,
          43931.4588629574,
          44041.1778008881,
          44166.26926782,
          44168.240161289,
          37253.197446217506,
          37303.4981831512,
          37352.44898509161,
          37370.896727392,
          37380.821527810396,
          37401.7426598384,
          37396.2047097063,
          37409.162678791196,
          37437.52186935,
          37448.911456869995,
          37327.0388524428,
          37255.9639201868,
          37295.0827186077,
          34547.2350222393,
          34529.752020355205,
          34567.914506670306,
          34539.385651839606,
          34543.2156689716,
          34592.5775139603,
          34592.529072503006,
          34592.5775139603,
          34592.5775139603,
          34551.4507167126,
          34554.114996864104,
          34543.118786057,
          34560.1701790266,
          34572.66807501,
          34525.4860955998,
          34538.5168476135,
          34530.6208900736,
          34481.89546076,
          34443.409460585,
          31980.6160902535,
          31944.391734655997,
          32036.190101636,
          29820.552586450995,
          29823.275358418497
         ],
         "yaxis": "y3"
        },
        {
         "mode": "lines",
         "name": "net_worth",
         "type": "scatter",
         "uid": "276cbc23-0330-4abf-b371-14b6cc841057",
         "xaxis": "x3",
         "y": [
          81663.90000000001,
          81680.203790648,
          81713.6475970293,
          81662.06029996069,
          81677.1341871852,
          81667.93817667059,
          81661.3740942944,
          81655.7468554047,
          81731.69888626749,
          81764.386547898,
          81675.7788629574,
          81680.9878008881,
          81680.66926781999,
          81653.38016128901,
          81608.14744621751,
          81579.4381831512,
          81591.5189850916,
          81565.726727392,
          81565.3315278104,
          81567.6726598384,
          81554.7047097063,
          81547.5926787912,
          81566.58186934999,
          81570.48145687,
          81448.60885244279,
          81377.5339201868,
          81410.6527186077,
          81394.49502223931,
          81377.0120203552,
          81410.37450667031,
          81381.8456518396,
          81381.8356689716,
          81431.1975139603,
          81431.149072503,
          81431.1975139603,
          81431.1975139603,
          81390.0707167126,
          81392.7349968641,
          81381.738786057,
          81398.7901790266,
          81411.28807501,
          81364.1060955998,
          81377.1368476135,
          81369.2408900736,
          81314.37546076,
          81272.209460585,
          81258.6760902535,
          81222.451734656,
          81314.25010163599,
          81306.352586451,
          81309.0753584185
         ],
         "yaxis": "y3"
        },
        {
         "marker": {
          "color": "DarkGreen"
         },
         "mode": "lines",
         "name": "Net Worth",
         "type": "scatter",
         "uid": "25ea341e-489b-4bf7-a2b9-893c1fadaacf",
         "xaxis": "x4",
         "y": [
          81663.90000000001,
          81680.203790648,
          81713.6475970293,
          81662.06029996069,
          81677.1341871852,
          81667.93817667059,
          81661.3740942944,
          81655.7468554047,
          81731.69888626749,
          81764.386547898,
          81675.7788629574,
          81680.9878008881,
          81680.66926781999,
          81653.38016128901,
          81608.14744621751,
          81579.4381831512,
          81591.5189850916,
          81565.726727392,
          81565.3315278104,
          81567.6726598384,
          81554.7047097063,
          81547.5926787912,
          81566.58186934999,
          81570.48145687,
          81448.60885244279,
          81377.5339201868,
          81410.6527186077,
          81394.49502223931,
          81377.0120203552,
          81410.37450667031,
          81381.8456518396,
          81381.8356689716,
          81431.1975139603,
          81431.149072503,
          81431.1975139603,
          81431.1975139603,
          81390.0707167126,
          81392.7349968641,
          81381.738786057,
          81398.7901790266,
          81411.28807501,
          81364.1060955998,
          81377.1368476135,
          81369.2408900736,
          81314.37546076,
          81272.209460585,
          81258.6760902535,
          81222.451734656,
          81314.25010163599,
          81306.352586451,
          81309.0753584185
         ],
         "yaxis": "y4"
        }
       ],
       "layout": {
        "annotations": [
         {
          "arrowcolor": "FireBrick",
          "arrowhead": 2,
          "arrowsize": 0.8,
          "arrowwidth": 4,
          "ax": 0,
          "ay": -15,
          "hoverlabel": {
           "bgcolor": "FireBrick"
          },
          "hovertext": "Step 49 [01_01_2020]<br>SELL 0.31010688 BTC @ 7119.28 USD MARKET<br>Total: 2207.74 USD - Comm.: 0.00093312 BTC",
          "opacity": 0.6,
          "showarrow": true,
          "x": 48,
          "xref": "x",
          "y": 7119.28,
          "yref": "y"
         },
         {
          "arrowcolor": "FireBrick",
          "arrowhead": 2,
          "arrowsize": 0.8,
          "arrowwidth": 4,
          "ax": 0,
          "ay": -15,
          "hoverlabel": {
           "bgcolor": "FireBrick"
          },
          "hovertext": "Step 46 [01_01_2020]<br>SELL 0.3445632 BTC @ 7108.3 USD MARKET<br>Total: 2449.26 USD - Comm.: 0.00103680 BTC",
          "opacity": 0.6,
          "showarrow": true,
          "x": 45,
          "xref": "x",
          "y": 7108.3,
          "yref": "y"
         },
         {
          "arrowcolor": "DarkGreen",
          "arrowhead": 2,
          "arrowsize": 0.8,
          "arrowwidth": 4,
          "ax": 0,
          "ay": 15,
          "hoverlabel": {
           "bgcolor": "DarkGreen"
          },
          "hovertext": "Step 45 [01_01_2020]<br>BUY 0.00051567 BTC @ 7117.0 USD MARKET<br>Total: 3.67 USD - Comm.: 0.01 USD",
          "opacity": 0.6,
          "showarrow": true,
          "x": 44,
          "xref": "x",
          "y": 7117,
          "yref": "y"
         },
         {
          "arrowcolor": "DarkGreen",
          "arrowhead": 2,
          "arrowsize": 0.8,
          "arrowwidth": 4,
          "ax": 0,
          "ay": 15,
          "hoverlabel": {
           "bgcolor": "DarkGreen"
          },
          "hovertext": "Step 44 [01_01_2020]<br>BUY 0.00085855 BTC @ 7128.32 USD MARKET<br>Total: 6.12 USD - Comm.: 0.02 USD",
          "opacity": 0.6,
          "showarrow": true,
          "x": 43,
          "xref": "x",
          "y": 7128.32,
          "yref": "y"
         },
         {
          "arrowcolor": "DarkGreen",
          "arrowhead": 2,
          "arrowsize": 0.8,
          "arrowwidth": 4,
          "ax": 0,
          "ay": 15,
          "hoverlabel": {
           "bgcolor": "DarkGreen"
          },
          "hovertext": "Step 31 [01_01_2020]<br>BUY 0.0005371 BTC @ 7130.92 USD MARKET<br>Total: 3.83 USD - Comm.: 0.01 USD",
          "opacity": 0.6,
          "showarrow": true,
          "x": 30,
          "xref": "x",
          "y": 7130.92,
          "yref": "y"
         },
         {
          "arrowcolor": "DarkGreen",
          "arrowhead": 2,
          "arrowsize": 0.8,
          "arrowwidth": 4,
          "ax": 0,
          "ay": 15,
          "hoverlabel": {
           "bgcolor": "DarkGreen"
          },
          "hovertext": "Step 29 [01_01_2020]<br>BUY 0.00067182 BTC @ 7129.92 USD MARKET<br>Total: 4.79 USD - Comm.: 0.01 USD",
          "opacity": 0.6,
          "showarrow": true,
          "x": 28,
          "xref": "x",
          "y": 7129.92,
          "yref": "y"
         },
         {
          "arrowcolor": "FireBrick",
          "arrowhead": 2,
          "arrowsize": 0.8,
          "arrowwidth": 4,
          "ax": 0,
          "ay": -15,
          "hoverlabel": {
           "bgcolor": "FireBrick"
          },
          "hovertext": "Step 27 [01_01_2020]<br>SELL 0.382848 BTC @ 7135.17 USD MARKET<br>Total: 2731.69 USD - Comm.: 0.00115200 BTC",
          "opacity": 0.6,
          "showarrow": true,
          "x": 26,
          "xref": "x",
          "y": 7135.17,
          "yref": "y"
         },
         {
          "arrowcolor": "DarkGreen",
          "arrowhead": 2,
          "arrowsize": 0.8,
          "arrowwidth": 4,
          "ax": 0,
          "ay": 15,
          "hoverlabel": {
           "bgcolor": "DarkGreen"
          },
          "hovertext": "Step 26 [01_01_2020]<br>BUY 0.00083885 BTC @ 7128.83 USD MARKET<br>Total: 5.98 USD - Comm.: 0.02 USD",
          "opacity": 0.6,
          "showarrow": true,
          "x": 25,
          "xref": "x",
          "y": 7128.83,
          "yref": "y"
         },
         {
          "arrowcolor": "DarkGreen",
          "arrowhead": 2,
          "arrowsize": 0.8,
          "arrowwidth": 4,
          "ax": 0,
          "ay": 15,
          "hoverlabel": {
           "bgcolor": "DarkGreen"
          },
          "hovertext": "Step 23 [01_01_2020]<br>BUY 0.00104257 BTC @ 7165.0 USD MARKET<br>Total: 7.47 USD - Comm.: 0.02 USD",
          "opacity": 0.6,
          "showarrow": true,
          "x": 22,
          "xref": "x",
          "y": 7165,
          "yref": "y"
         },
         {
          "arrowcolor": "DarkGreen",
          "arrowhead": 2,
          "arrowsize": 0.8,
          "arrowwidth": 4,
          "ax": 0,
          "ay": 15,
          "hoverlabel": {
           "bgcolor": "DarkGreen"
          },
          "hovertext": "Step 22 [01_01_2020]<br>BUY 0.00130422 BTC @ 7161.36 USD MARKET<br>Total: 9.34 USD - Comm.: 0.03 USD",
          "opacity": 0.6,
          "showarrow": true,
          "x": 21,
          "xref": "x",
          "y": 7161.36,
          "yref": "y"
         },
         {
          "arrowcolor": "DarkGreen",
          "arrowhead": 2,
          "arrowsize": 0.8,
          "arrowwidth": 4,
          "ax": 0,
          "ay": 15,
          "hoverlabel": {
           "bgcolor": "DarkGreen"
          },
          "hovertext": "Step 21 [01_01_2020]<br>BUY 0.00279364 BTC @ 7162.71 USD MARKET<br>Total: 20.01 USD - Comm.: 0.06 USD",
          "opacity": 0.6,
          "showarrow": true,
          "x": 20,
          "xref": "x",
          "y": 7162.71,
          "yref": "y"
         },
         {
          "arrowcolor": "DarkGreen",
          "arrowhead": 2,
          "arrowsize": 0.8,
          "arrowwidth": 4,
          "ax": 0,
          "ay": 15,
          "hoverlabel": {
           "bgcolor": "DarkGreen"
          },
          "hovertext": "Step 20 [01_01_2020]<br>BUY 0.00103417 BTC @ 7165.19 USD MARKET<br>Total: 7.41 USD - Comm.: 0.02 USD",
          "opacity": 0.6,
          "showarrow": true,
          "x": 19,
          "xref": "x",
          "y": 7165.19,
          "yref": "y"
         },
         {
          "arrowcolor": "DarkGreen",
          "arrowhead": 2,
          "arrowsize": 0.8,
          "arrowwidth": 4,
          "ax": 0,
          "ay": 15,
          "hoverlabel": {
           "bgcolor": "DarkGreen"
          },
          "hovertext": "Step 19 [01_01_2020]<br>BUY 0.00258488 BTC @ 7164.73 USD MARKET<br>Total: 18.52 USD - Comm.: 0.06 USD",
          "opacity": 0.6,
          "showarrow": true,
          "x": 18,
          "xref": "x",
          "y": 7164.73,
          "yref": "y"
         },
         {
          "arrowcolor": "DarkGreen",
          "arrowhead": 2,
          "arrowsize": 0.8,
          "arrowwidth": 4,
          "ax": 0,
          "ay": 15,
          "hoverlabel": {
           "bgcolor": "DarkGreen"
          },
          "hovertext": "Step 18 [01_01_2020]<br>BUY 0.00143619 BTC @ 7164.8 USD MARKET<br>Total: 10.29 USD - Comm.: 0.03 USD",
          "opacity": 0.6,
          "showarrow": true,
          "x": 17,
          "xref": "x",
          "y": 7164.8,
          "yref": "y"
         },
         {
          "arrowcolor": "DarkGreen",
          "arrowhead": 2,
          "arrowsize": 0.8,
          "arrowwidth": 4,
          "ax": 0,
          "ay": 15,
          "hoverlabel": {
           "bgcolor": "DarkGreen"
          },
          "hovertext": "Step 17 [01_01_2020]<br>BUY 0.00615226 BTC @ 7169.72 USD MARKET<br>Total: 44.11 USD - Comm.: 0.13 USD",
          "opacity": 0.6,
          "showarrow": true,
          "x": 16,
          "xref": "x",
          "y": 7169.72,
          "yref": "y"
         },
         {
          "arrowcolor": "DarkGreen",
          "arrowhead": 2,
          "arrowsize": 0.8,
          "arrowwidth": 4,
          "ax": 0,
          "ay": 15,
          "hoverlabel": {
           "bgcolor": "DarkGreen"
          },
          "hovertext": "Step 16 [01_01_2020]<br>BUY 0.00512879 BTC @ 7167.38 USD MARKET<br>Total: 36.76 USD - Comm.: 0.11 USD",
          "opacity": 0.6,
          "showarrow": true,
          "x": 15,
          "xref": "x",
          "y": 7167.38,
          "yref": "y"
         },
         {
          "arrowcolor": "DarkGreen",
          "arrowhead": 2,
          "arrowsize": 0.8,
          "arrowwidth": 4,
          "ax": 0,
          "ay": 15,
          "hoverlabel": {
           "bgcolor": "DarkGreen"
          },
          "hovertext": "Step 15 [01_01_2020]<br>BUY 0.01098169 BTC @ 7172.85 USD MARKET<br>Total: 78.77 USD - Comm.: 0.24 USD",
          "opacity": 0.6,
          "showarrow": true,
          "x": 14,
          "xref": "x",
          "y": 7172.85,
          "yref": "y"
         },
         {
          "arrowcolor": "FireBrick",
          "arrowhead": 2,
          "arrowsize": 0.8,
          "arrowwidth": 4,
          "ax": 0,
          "ay": -15,
          "hoverlabel": {
           "bgcolor": "FireBrick"
          },
          "hovertext": "Step 14 [01_01_2020]<br>SELL 0.95712 BTC @ 7177.58 USD MARKET<br>Total: 6869.81 USD - Comm.: 0.00288000 BTC",
          "opacity": 0.6,
          "showarrow": true,
          "x": 13,
          "xref": "x",
          "y": 7177.58,
          "yref": "y"
         },
         {
          "arrowcolor": "DarkGreen",
          "arrowhead": 2,
          "arrowsize": 0.8,
          "arrowwidth": 4,
          "ax": 0,
          "ay": 15,
          "hoverlabel": {
           "bgcolor": "DarkGreen"
          },
          "hovertext": "Step 13 [01_01_2020]<br>BUY 0.00406154 BTC @ 7182.0 USD MARKET<br>Total: 29.17 USD - Comm.: 0.09 USD",
          "opacity": 0.6,
          "showarrow": true,
          "x": 12,
          "xref": "x",
          "y": 7182,
          "yref": "y"
         },
         {
          "arrowcolor": "DarkGreen",
          "arrowhead": 2,
          "arrowsize": 0.8,
          "arrowwidth": 4,
          "ax": 0,
          "ay": 15,
          "hoverlabel": {
           "bgcolor": "DarkGreen"
          },
          "hovertext": "Step 12 [01_01_2020]<br>BUY 0.01740882 BTC @ 7181.99 USD MARKET<br>Total: 125.03 USD - Comm.: 0.38 USD",
          "opacity": 0.6,
          "showarrow": true,
          "x": 11,
          "xref": "x",
          "y": 7181.99,
          "yref": "y"
         },
         {
          "arrowcolor": "DarkGreen",
          "arrowhead": 2,
          "arrowsize": 0.8,
          "arrowwidth": 4,
          "ax": 0,
          "ay": 15,
          "hoverlabel": {
           "bgcolor": "DarkGreen"
          },
          "hovertext": "Step 11 [01_01_2020]<br>BUY 0.01451033 BTC @ 7181.09 USD MARKET<br>Total: 104.2 USD - Comm.: 0.31 USD",
          "opacity": 0.6,
          "showarrow": true,
          "x": 10,
          "xref": "x",
          "y": 7181.09,
          "yref": "y"
         },
         {
          "arrowcolor": "FireBrick",
          "arrowhead": 2,
          "arrowsize": 0.8,
          "arrowwidth": 4,
          "ax": 0,
          "ay": -15,
          "hoverlabel": {
           "bgcolor": "FireBrick"
          },
          "hovertext": "Step 10 [01_01_2020]<br>SELL 3.1904 BTC @ 7184.3 USD MARKET<br>Total: 22920.79 USD - Comm.: 0.00960000 BTC",
          "opacity": 0.6,
          "showarrow": true,
          "x": 9,
          "xref": "x",
          "y": 7184.3,
          "yref": "y"
         },
         {
          "arrowcolor": "DarkGreen",
          "arrowhead": 2,
          "arrowsize": 0.8,
          "arrowwidth": 4,
          "ax": 0,
          "ay": 15,
          "hoverlabel": {
           "bgcolor": "DarkGreen"
          },
          "hovertext": "Step 9 [01_01_2020]<br>BUY 0.01813877 BTC @ 7180.75 USD MARKET<br>Total: 130.25 USD - Comm.: 0.39 USD",
          "opacity": 0.6,
          "showarrow": true,
          "x": 8,
          "xref": "x",
          "y": 7180.75,
          "yref": "y"
         },
         {
          "arrowcolor": "DarkGreen",
          "arrowhead": 2,
          "arrowsize": 0.8,
          "arrowwidth": 4,
          "ax": 0,
          "ay": 15,
          "hoverlabel": {
           "bgcolor": "DarkGreen"
          },
          "hovertext": "Step 8 [01_01_2020]<br>BUY 0.0226991 BTC @ 7172.53 USD MARKET<br>Total: 162.81 USD - Comm.: 0.49 USD",
          "opacity": 0.6,
          "showarrow": true,
          "x": 7,
          "xref": "x",
          "y": 7172.53,
          "yref": "y"
         },
         {
          "arrowcolor": "DarkGreen",
          "arrowhead": 2,
          "arrowsize": 0.8,
          "arrowwidth": 4,
          "ax": 0,
          "ay": 15,
          "hoverlabel": {
           "bgcolor": "DarkGreen"
          },
          "hovertext": "Step 7 [01_01_2020]<br>BUY 0.26481627 BTC @ 7172.52 USD MARKET<br>Total: 1899.4 USD - Comm.: 5.72 USD",
          "opacity": 0.6,
          "showarrow": true,
          "x": 6,
          "xref": "x",
          "y": 7172.52,
          "yref": "y"
         },
         {
          "arrowcolor": "DarkGreen",
          "arrowhead": 2,
          "arrowsize": 0.8,
          "arrowwidth": 4,
          "ax": 0,
          "ay": 15,
          "hoverlabel": {
           "bgcolor": "DarkGreen"
          },
          "hovertext": "Step 6 [01_01_2020]<br>BUY 0.16212501 BTC @ 7172.86 USD MARKET<br>Total: 1162.9 USD - Comm.: 3.50 USD",
          "opacity": 0.6,
          "showarrow": true,
          "x": 5,
          "xref": "x",
          "y": 7172.86,
          "yref": "y"
         },
         {
          "arrowcolor": "DarkGreen",
          "arrowhead": 2,
          "arrowsize": 0.8,
          "arrowwidth": 4,
          "ax": 0,
          "ay": 15,
          "hoverlabel": {
           "bgcolor": "DarkGreen"
          },
          "hovertext": "Step 5 [01_01_2020]<br>BUY 0.36026945 BTC @ 7173.02 USD MARKET<br>Total: 2584.22 USD - Comm.: 7.78 USD",
          "opacity": 0.6,
          "showarrow": true,
          "x": 4,
          "xref": "x",
          "y": 7173.02,
          "yref": "y"
         },
         {
          "arrowcolor": "DarkGreen",
          "arrowhead": 2,
          "arrowsize": 0.8,
          "arrowwidth": 4,
          "ax": 0,
          "ay": 15,
          "hoverlabel": {
           "bgcolor": "DarkGreen"
          },
          "hovertext": "Step 4 [01_01_2020]<br>BUY 0.10010333 BTC @ 7170.99 USD MARKET<br>Total: 717.84 USD - Comm.: 2.16 USD",
          "opacity": 0.6,
          "showarrow": true,
          "x": 3,
          "xref": "x",
          "y": 7170.99,
          "yref": "y"
         },
         {
          "arrowcolor": "FireBrick",
          "arrowhead": 2,
          "arrowsize": 0.8,
          "arrowwidth": 4,
          "ax": 0,
          "ay": -15,
          "hoverlabel": {
           "bgcolor": "FireBrick"
          },
          "hovertext": "Step 3 [01_01_2020]<br>SELL 1.994 BTC @ 7172.01 USD MARKET<br>Total: 14300.99 USD - Comm.: 0.00600000 BTC",
          "opacity": 0.6,
          "showarrow": true,
          "x": 2,
          "xref": "x",
          "y": 7172.01,
          "yref": "y"
         },
         {
          "arrowcolor": "DarkGreen",
          "arrowhead": 2,
          "arrowsize": 0.8,
          "arrowwidth": 4,
          "ax": 0,
          "ay": 15,
          "hoverlabel": {
           "bgcolor": "DarkGreen"
          },
          "hovertext": "Step 2 [01_01_2020]<br>BUY 0.11126363 BTC @ 7168.56 USD MARKET<br>Total: 797.6 USD - Comm.: 2.40 USD",
          "opacity": 0.6,
          "showarrow": true,
          "x": 1,
          "xref": "x",
          "y": 7168.56,
          "yref": "y"
         },
         {
          "arrowcolor": "DarkGreen",
          "arrowhead": 2,
          "arrowsize": 0.8,
          "arrowwidth": 4,
          "ax": 0,
          "ay": 15,
          "hoverlabel": {
           "bgcolor": "DarkGreen"
          },
          "hovertext": "Step 1 [01_01_2020]<br>BUY 0.2782433 BTC @ 7166.39 USD MARKET<br>Total: 1994.0 USD - Comm.: 6.00 USD",
          "opacity": 0.6,
          "showarrow": true,
          "x": 0,
          "xref": "x",
          "y": 7166.39,
          "yref": "y"
         }
        ],
        "margin": {
         "t": 50
        },
        "template": {
         "data": {
          "bar": [
           {
            "error_x": {
             "color": "#2a3f5f"
            },
            "error_y": {
             "color": "#2a3f5f"
            },
            "marker": {
             "line": {
              "color": "white",
              "width": 0.5
             }
            },
            "type": "bar"
           }
          ],
          "barpolar": [
           {
            "marker": {
             "line": {
              "color": "white",
              "width": 0.5
             }
            },
            "type": "barpolar"
           }
          ],
          "carpet": [
           {
            "aaxis": {
             "endlinecolor": "#2a3f5f",
             "gridcolor": "#C8D4E3",
             "linecolor": "#C8D4E3",
             "minorgridcolor": "#C8D4E3",
             "startlinecolor": "#2a3f5f"
            },
            "baxis": {
             "endlinecolor": "#2a3f5f",
             "gridcolor": "#C8D4E3",
             "linecolor": "#C8D4E3",
             "minorgridcolor": "#C8D4E3",
             "startlinecolor": "#2a3f5f"
            },
            "type": "carpet"
           }
          ],
          "choropleth": [
           {
            "colorbar": {
             "outlinewidth": 0,
             "ticks": ""
            },
            "type": "choropleth"
           }
          ],
          "contour": [
           {
            "colorbar": {
             "outlinewidth": 0,
             "ticks": ""
            },
            "colorscale": [
             [
              0,
              "#0d0887"
             ],
             [
              0.1111111111111111,
              "#46039f"
             ],
             [
              0.2222222222222222,
              "#7201a8"
             ],
             [
              0.3333333333333333,
              "#9c179e"
             ],
             [
              0.4444444444444444,
              "#bd3786"
             ],
             [
              0.5555555555555556,
              "#d8576b"
             ],
             [
              0.6666666666666666,
              "#ed7953"
             ],
             [
              0.7777777777777778,
              "#fb9f3a"
             ],
             [
              0.8888888888888888,
              "#fdca26"
             ],
             [
              1,
              "#f0f921"
             ]
            ],
            "type": "contour"
           }
          ],
          "contourcarpet": [
           {
            "colorbar": {
             "outlinewidth": 0,
             "ticks": ""
            },
            "type": "contourcarpet"
           }
          ],
          "heatmap": [
           {
            "colorbar": {
             "outlinewidth": 0,
             "ticks": ""
            },
            "colorscale": [
             [
              0,
              "#0d0887"
             ],
             [
              0.1111111111111111,
              "#46039f"
             ],
             [
              0.2222222222222222,
              "#7201a8"
             ],
             [
              0.3333333333333333,
              "#9c179e"
             ],
             [
              0.4444444444444444,
              "#bd3786"
             ],
             [
              0.5555555555555556,
              "#d8576b"
             ],
             [
              0.6666666666666666,
              "#ed7953"
             ],
             [
              0.7777777777777778,
              "#fb9f3a"
             ],
             [
              0.8888888888888888,
              "#fdca26"
             ],
             [
              1,
              "#f0f921"
             ]
            ],
            "type": "heatmap"
           }
          ],
          "heatmapgl": [
           {
            "colorbar": {
             "outlinewidth": 0,
             "ticks": ""
            },
            "colorscale": [
             [
              0,
              "#0d0887"
             ],
             [
              0.1111111111111111,
              "#46039f"
             ],
             [
              0.2222222222222222,
              "#7201a8"
             ],
             [
              0.3333333333333333,
              "#9c179e"
             ],
             [
              0.4444444444444444,
              "#bd3786"
             ],
             [
              0.5555555555555556,
              "#d8576b"
             ],
             [
              0.6666666666666666,
              "#ed7953"
             ],
             [
              0.7777777777777778,
              "#fb9f3a"
             ],
             [
              0.8888888888888888,
              "#fdca26"
             ],
             [
              1,
              "#f0f921"
             ]
            ],
            "type": "heatmapgl"
           }
          ],
          "histogram": [
           {
            "marker": {
             "colorbar": {
              "outlinewidth": 0,
              "ticks": ""
             }
            },
            "type": "histogram"
           }
          ],
          "histogram2d": [
           {
            "colorbar": {
             "outlinewidth": 0,
             "ticks": ""
            },
            "colorscale": [
             [
              0,
              "#0d0887"
             ],
             [
              0.1111111111111111,
              "#46039f"
             ],
             [
              0.2222222222222222,
              "#7201a8"
             ],
             [
              0.3333333333333333,
              "#9c179e"
             ],
             [
              0.4444444444444444,
              "#bd3786"
             ],
             [
              0.5555555555555556,
              "#d8576b"
             ],
             [
              0.6666666666666666,
              "#ed7953"
             ],
             [
              0.7777777777777778,
              "#fb9f3a"
             ],
             [
              0.8888888888888888,
              "#fdca26"
             ],
             [
              1,
              "#f0f921"
             ]
            ],
            "type": "histogram2d"
           }
          ],
          "histogram2dcontour": [
           {
            "colorbar": {
             "outlinewidth": 0,
             "ticks": ""
            },
            "colorscale": [
             [
              0,
              "#0d0887"
             ],
             [
              0.1111111111111111,
              "#46039f"
             ],
             [
              0.2222222222222222,
              "#7201a8"
             ],
             [
              0.3333333333333333,
              "#9c179e"
             ],
             [
              0.4444444444444444,
              "#bd3786"
             ],
             [
              0.5555555555555556,
              "#d8576b"
             ],
             [
              0.6666666666666666,
              "#ed7953"
             ],
             [
              0.7777777777777778,
              "#fb9f3a"
             ],
             [
              0.8888888888888888,
              "#fdca26"
             ],
             [
              1,
              "#f0f921"
             ]
            ],
            "type": "histogram2dcontour"
           }
          ],
          "mesh3d": [
           {
            "colorbar": {
             "outlinewidth": 0,
             "ticks": ""
            },
            "type": "mesh3d"
           }
          ],
          "parcoords": [
           {
            "line": {
             "colorbar": {
              "outlinewidth": 0,
              "ticks": ""
             }
            },
            "type": "parcoords"
           }
          ],
          "pie": [
           {
            "automargin": true,
            "type": "pie"
           }
          ],
          "scatter": [
           {
            "marker": {
             "colorbar": {
              "outlinewidth": 0,
              "ticks": ""
             }
            },
            "type": "scatter"
           }
          ],
          "scatter3d": [
           {
            "line": {
             "colorbar": {
              "outlinewidth": 0,
              "ticks": ""
             }
            },
            "marker": {
             "colorbar": {
              "outlinewidth": 0,
              "ticks": ""
             }
            },
            "type": "scatter3d"
           }
          ],
          "scattercarpet": [
           {
            "marker": {
             "colorbar": {
              "outlinewidth": 0,
              "ticks": ""
             }
            },
            "type": "scattercarpet"
           }
          ],
          "scattergeo": [
           {
            "marker": {
             "colorbar": {
              "outlinewidth": 0,
              "ticks": ""
             }
            },
            "type": "scattergeo"
           }
          ],
          "scattergl": [
           {
            "marker": {
             "colorbar": {
              "outlinewidth": 0,
              "ticks": ""
             }
            },
            "type": "scattergl"
           }
          ],
          "scattermapbox": [
           {
            "marker": {
             "colorbar": {
              "outlinewidth": 0,
              "ticks": ""
             }
            },
            "type": "scattermapbox"
           }
          ],
          "scatterpolar": [
           {
            "marker": {
             "colorbar": {
              "outlinewidth": 0,
              "ticks": ""
             }
            },
            "type": "scatterpolar"
           }
          ],
          "scatterpolargl": [
           {
            "marker": {
             "colorbar": {
              "outlinewidth": 0,
              "ticks": ""
             }
            },
            "type": "scatterpolargl"
           }
          ],
          "scatterternary": [
           {
            "marker": {
             "colorbar": {
              "outlinewidth": 0,
              "ticks": ""
             }
            },
            "type": "scatterternary"
           }
          ],
          "surface": [
           {
            "colorbar": {
             "outlinewidth": 0,
             "ticks": ""
            },
            "colorscale": [
             [
              0,
              "#0d0887"
             ],
             [
              0.1111111111111111,
              "#46039f"
             ],
             [
              0.2222222222222222,
              "#7201a8"
             ],
             [
              0.3333333333333333,
              "#9c179e"
             ],
             [
              0.4444444444444444,
              "#bd3786"
             ],
             [
              0.5555555555555556,
              "#d8576b"
             ],
             [
              0.6666666666666666,
              "#ed7953"
             ],
             [
              0.7777777777777778,
              "#fb9f3a"
             ],
             [
              0.8888888888888888,
              "#fdca26"
             ],
             [
              1,
              "#f0f921"
             ]
            ],
            "type": "surface"
           }
          ],
          "table": [
           {
            "cells": {
             "fill": {
              "color": "#EBF0F8"
             },
             "line": {
              "color": "white"
             }
            },
            "header": {
             "fill": {
              "color": "#C8D4E3"
             },
             "line": {
              "color": "white"
             }
            },
            "type": "table"
           }
          ]
         },
         "layout": {
          "annotationdefaults": {
           "arrowcolor": "#2a3f5f",
           "arrowhead": 0,
           "arrowwidth": 1
          },
          "autotypenumbers": "strict",
          "coloraxis": {
           "colorbar": {
            "outlinewidth": 0,
            "ticks": ""
           }
          },
          "colorscale": {
           "diverging": [
            [
             0,
             "#8e0152"
            ],
            [
             0.1,
             "#c51b7d"
            ],
            [
             0.2,
             "#de77ae"
            ],
            [
             0.3,
             "#f1b6da"
            ],
            [
             0.4,
             "#fde0ef"
            ],
            [
             0.5,
             "#f7f7f7"
            ],
            [
             0.6,
             "#e6f5d0"
            ],
            [
             0.7,
             "#b8e186"
            ],
            [
             0.8,
             "#7fbc41"
            ],
            [
             0.9,
             "#4d9221"
            ],
            [
             1,
             "#276419"
            ]
           ],
           "sequential": [
            [
             0,
             "#0d0887"
            ],
            [
             0.1111111111111111,
             "#46039f"
            ],
            [
             0.2222222222222222,
             "#7201a8"
            ],
            [
             0.3333333333333333,
             "#9c179e"
            ],
            [
             0.4444444444444444,
             "#bd3786"
            ],
            [
             0.5555555555555556,
             "#d8576b"
            ],
            [
             0.6666666666666666,
             "#ed7953"
            ],
            [
             0.7777777777777778,
             "#fb9f3a"
            ],
            [
             0.8888888888888888,
             "#fdca26"
            ],
            [
             1,
             "#f0f921"
            ]
           ],
           "sequentialminus": [
            [
             0,
             "#0d0887"
            ],
            [
             0.1111111111111111,
             "#46039f"
            ],
            [
             0.2222222222222222,
             "#7201a8"
            ],
            [
             0.3333333333333333,
             "#9c179e"
            ],
            [
             0.4444444444444444,
             "#bd3786"
            ],
            [
             0.5555555555555556,
             "#d8576b"
            ],
            [
             0.6666666666666666,
             "#ed7953"
            ],
            [
             0.7777777777777778,
             "#fb9f3a"
            ],
            [
             0.8888888888888888,
             "#fdca26"
            ],
            [
             1,
             "#f0f921"
            ]
           ]
          },
          "colorway": [
           "#636efa",
           "#EF553B",
           "#00cc96",
           "#ab63fa",
           "#FFA15A",
           "#19d3f3",
           "#FF6692",
           "#B6E880",
           "#FF97FF",
           "#FECB52"
          ],
          "font": {
           "color": "#2a3f5f"
          },
          "geo": {
           "bgcolor": "white",
           "lakecolor": "white",
           "landcolor": "white",
           "showlakes": true,
           "showland": true,
           "subunitcolor": "#C8D4E3"
          },
          "hoverlabel": {
           "align": "left"
          },
          "hovermode": "closest",
          "mapbox": {
           "style": "light"
          },
          "paper_bgcolor": "white",
          "plot_bgcolor": "white",
          "polar": {
           "angularaxis": {
            "gridcolor": "#EBF0F8",
            "linecolor": "#EBF0F8",
            "ticks": ""
           },
           "bgcolor": "white",
           "radialaxis": {
            "gridcolor": "#EBF0F8",
            "linecolor": "#EBF0F8",
            "ticks": ""
           }
          },
          "scene": {
           "xaxis": {
            "backgroundcolor": "white",
            "gridcolor": "#DFE8F3",
            "gridwidth": 2,
            "linecolor": "#EBF0F8",
            "showbackground": true,
            "ticks": "",
            "zerolinecolor": "#EBF0F8"
           },
           "yaxis": {
            "backgroundcolor": "white",
            "gridcolor": "#DFE8F3",
            "gridwidth": 2,
            "linecolor": "#EBF0F8",
            "showbackground": true,
            "ticks": "",
            "zerolinecolor": "#EBF0F8"
           },
           "zaxis": {
            "backgroundcolor": "white",
            "gridcolor": "#DFE8F3",
            "gridwidth": 2,
            "linecolor": "#EBF0F8",
            "showbackground": true,
            "ticks": "",
            "zerolinecolor": "#EBF0F8"
           }
          },
          "shapedefaults": {
           "line": {
            "color": "#2a3f5f"
           }
          },
          "ternary": {
           "aaxis": {
            "gridcolor": "#DFE8F3",
            "linecolor": "#A2B1C6",
            "ticks": ""
           },
           "baxis": {
            "gridcolor": "#DFE8F3",
            "linecolor": "#A2B1C6",
            "ticks": ""
           },
           "bgcolor": "white",
           "caxis": {
            "gridcolor": "#DFE8F3",
            "linecolor": "#A2B1C6",
            "ticks": ""
           }
          },
          "title": {
           "x": 0.05
          },
          "xaxis": {
           "automargin": true,
           "gridcolor": "#EBF0F8",
           "linecolor": "#EBF0F8",
           "ticks": "",
           "title": {
            "standoff": 15
           },
           "zerolinecolor": "#EBF0F8",
           "zerolinewidth": 2
          },
          "yaxis": {
           "automargin": true,
           "gridcolor": "#EBF0F8",
           "linecolor": "#EBF0F8",
           "ticks": "",
           "title": {
            "standoff": 15
           },
           "zerolinecolor": "#EBF0F8",
           "zerolinewidth": 2
          }
         }
        },
        "title": {
         "text": "[2021-04-19 16:32:21 PM] Episode: 47/100 Step: 51/200"
        },
        "xaxis": {
         "anchor": "y",
         "domain": [
          0,
          1
         ],
         "gridcolor": "Gainsboro",
         "linecolor": "Grey",
         "matches": "x4",
         "rangeslider": {
          "visible": false
         },
         "showticklabels": false,
         "title": {
          "font": {
           "size": 12
          },
          "standoff": 7,
          "text": "Price"
         }
        },
        "xaxis2": {
         "anchor": "y2",
         "domain": [
          0,
          1
         ],
         "gridcolor": "Gainsboro",
         "linecolor": "Grey",
         "matches": "x4",
         "showticklabels": false,
         "title": {
          "font": {
           "size": 12
          },
          "standoff": 7,
          "text": "Volume"
         }
        },
        "xaxis3": {
         "anchor": "y3",
         "domain": [
          0,
          1
         ],
         "gridcolor": "Gainsboro",
         "linecolor": "Grey",
         "matches": "x4",
         "showticklabels": false,
         "title": {
          "font": {
           "size": 12
          },
          "standoff": 7,
          "text": "Performance"
         }
        },
        "xaxis4": {
         "anchor": "y4",
         "domain": [
          0,
          1
         ],
         "gridcolor": "Gainsboro",
         "linecolor": "Grey",
         "title": {
          "font": {
           "size": 12
          },
          "standoff": 7,
          "text": "Net Worth"
         }
        },
        "yaxis": {
         "anchor": "x",
         "domain": [
          0.49950000000000006,
          1
         ],
         "gridcolor": "Gainsboro",
         "linecolor": "Grey"
        },
        "yaxis2": {
         "anchor": "x2",
         "domain": [
          0.333,
          0.46950000000000003
         ],
         "gridcolor": "Gainsboro",
         "linecolor": "Grey"
        },
        "yaxis3": {
         "anchor": "x3",
         "domain": [
          0.1665,
          0.30300000000000005
         ],
         "gridcolor": "Gainsboro",
         "linecolor": "Grey"
        },
        "yaxis4": {
         "anchor": "x4",
         "domain": [
          0,
          0.1365
         ],
         "gridcolor": "Gainsboro",
         "linecolor": "Grey"
        }
       }
      },
      "text/html": [
       "<div>                            <div id=\"0d856f93-cadc-40bf-aea8-136c36215cbd\" class=\"plotly-graph-div\" style=\"height:525px; width:100%;\"></div>            <script type=\"text/javascript\">                require([\"plotly\"], function(Plotly) {                    window.PLOTLYENV=window.PLOTLYENV || {};                                    if (document.getElementById(\"0d856f93-cadc-40bf-aea8-136c36215cbd\")) {                    Plotly.newPlot(                        \"0d856f93-cadc-40bf-aea8-136c36215cbd\",                        [{\"close\": [7166.39, 7168.56, 7172.01, 7170.99, 7173.02, 7172.86, 7172.52, 7172.53, 7180.75, 7184.3, 7181.09, 7181.99, 7182.0, 7177.58, 7172.85, 7167.38, 7169.72, 7164.8, 7164.73, 7165.19, 7162.71, 7161.36, 7165.0, 7165.75, 7142.43, 7128.83, 7135.17, 7133.53, 7129.92, 7136.81, 7130.92, 7130.92, 7141.11, 7141.1, 7141.11, 7141.11, 7132.62, 7133.17, 7130.9, 7134.42, 7137.0, 7127.26, 7129.95, 7128.32, 7117.0, 7108.3, 7106.93, 7098.88, 7119.28, 7118.98, 7119.63], \"high\": [7174.33, 7172.54, 7172.01, 7172.01, 7173.02, 7174.94, 7172.85, 7172.53, 7181.01, 7186.18, 7184.3, 7181.99, 7182.0, 7182.0, 7176.31, 7172.86, 7169.95, 7169.72, 7168.48, 7165.8, 7165.2, 7164.52, 7165.0, 7166.92, 7165.74, 7145.88, 7137.91, 7136.25, 7134.41, 7136.86, 7136.8, 7130.92, 7141.33, 7141.11, 7141.11, 7141.33, 7141.11, 7134.87, 7133.18, 7134.44, 7137.0, 7137.0, 7130.71, 7129.96, 7128.33, 7121.87, 7108.3, 7106.93, 7119.6, 7120.76, 7128.05], \"low\": [7165.02, 7160.0, 7168.84, 7170.95, 7170.98, 7170.99, 7172.19, 7172.52, 7172.52, 7179.77, 7180.65, 7181.08, 7180.77, 7177.58, 7172.82, 7167.38, 7167.37, 7157.15, 7159.63, 7162.54, 7160.99, 7158.44, 7160.93, 7164.99, 7135.0, 7128.83, 7128.83, 7132.58, 7126.49, 7129.91, 7125.0, 7130.91, 7130.91, 7141.1, 7141.1, 7141.1, 7130.0, 7132.62, 7130.9, 7120.21, 7128.69, 7127.26, 7122.96, 7128.32, 7117.0, 7105.0, 7103.0, 7096.61, 7089.0, 7111.41, 7117.02], \"name\": \"Price\", \"open\": [7174.33, 7166.04, 7169.18, 7172.01, 7170.99, 7174.94, 7172.85, 7172.53, 7172.53, 7180.84, 7184.29, 7181.09, 7181.99, 7182.0, 7176.31, 7172.85, 7167.37, 7169.71, 7164.79, 7164.73, 7165.19, 7162.71, 7161.36, 7164.99, 7165.74, 7142.43, 7130.54, 7135.17, 7133.54, 7129.91, 7136.8, 7130.92, 7130.91, 7141.1, 7141.11, 7141.11, 7141.11, 7132.62, 7133.18, 7130.9, 7134.15, 7136.99, 7127.26, 7129.96, 7128.33, 7117.0, 7108.29, 7106.93, 7098.87, 7119.28, 7118.99], \"showlegend\": false, \"type\": \"candlestick\", \"uid\": \"09edf567-cadc-4f7a-9714-4c6a812f96a1\", \"xaxis\": \"x\", \"yaxis\": \"y\"}, {\"marker\": {\"color\": \"DodgerBlue\"}, \"name\": \"Volume\", \"showlegend\": false, \"type\": \"bar\", \"uid\": \"aa32f881-5229-4fb8-9146-3cba5b69c721\", \"xaxis\": \"x2\", \"y\": [6.27832277, 11.53167255, 7.46578453, 6.11743756, 6.68604702, 10.78464254, 7.19926715, 7.50299101, 5.11895525, 9.23054969, 8.03016611, 6.09499334, 4.91928531, 3.85334257, 13.86485037, 19.86766265, 4.89090748, 59.11979768, 13.86503246, 9.86198642, 20.2198015, 16.72186045, 9.77588274, 12.85893343, 95.79786862, 87.11537654, 48.81340061, 27.80524801, 15.59064837, 12.7428135, 15.29235276, 7.65869164, 13.37448182, 5.17705364, 4.69442777, 10.68223166, 57.85410208, 12.73609457, 5.89149905, 33.09189562, 13.08480911, 23.2053624, 11.81538197, 7.6980272, 24.26406004, 75.08815665, 34.35777912, 81.81279723, 73.17096155, 24.20922552, 23.08876839], \"yaxis\": \"y2\"}, {\"mode\": \"lines\", \"name\": \"bitstamp:/USD-BTC\", \"type\": \"scatter\", \"uid\": \"2aade552-5af6-40fb-8dc5-64ff50679a70\", \"xaxis\": \"x3\", \"y\": [7166.39, 7168.56, 7172.01, 7170.99, 7173.02, 7172.86, 7172.52, 7172.53, 7180.75, 7184.3, 7181.09, 7181.99, 7182.0, 7177.58, 7172.85, 7167.38, 7169.72, 7164.8, 7164.73, 7165.19, 7162.71, 7161.36, 7165.0, 7165.75, 7142.43, 7128.83, 7135.17, 7133.53, 7129.92, 7136.81, 7130.92, 7130.92, 7141.11, 7141.1, 7141.11, 7141.11, 7132.62, 7133.17, 7130.9, 7134.42, 7137.0, 7127.26, 7129.95, 7128.32, 7117.0, 7108.3, 7106.93, 7098.88, 7119.28, 7118.98, 7119.63], \"yaxis\": \"y3\"}, {\"mode\": \"lines\", \"name\": \"bitstamp:/USD:/free\", \"type\": \"scatter\", \"uid\": \"8ba59f44-26ab-4f2d-8f66-7dcec110f44c\", \"xaxis\": \"x3\", \"y\": [10000.0, 8000.0, 7200.0, 7200.0, 6480.0, 3888.0, 2721.6, 816.48, 653.18, 522.54, 522.54, 418.03, 292.62, 263.36, 263.36, 184.35, 147.48, 103.24, 92.92, 74.34, 66.91, 46.84, 37.47, 29.98, 29.98, 29.98, 23.98, 23.98, 23.98, 19.18, 19.18, 15.34, 15.34, 15.34, 15.34, 15.34, 15.34, 15.34, 15.34, 15.34, 15.34, 15.34, 15.34, 15.34, 9.2, 5.52, 5.52, 5.52, 5.52, 5.52, 5.52], \"yaxis\": \"y3\"}, {\"mode\": \"lines\", \"name\": \"bitstamp:/USD:/locked\", \"type\": \"scatter\", \"uid\": \"894c4969-7e67-47e9-b650-4a1597ab833e\", \"xaxis\": \"x3\", \"y\": [0.0, 0.0, 0.0, 14300.99, 14300.99, 14300.99, 14300.99, 14300.99, 14300.99, 14300.99, 37221.78, 37221.78, 37221.78, 37221.78, 44091.59, 44091.59, 44091.59, 44091.59, 44091.59, 44091.59, 44091.59, 44091.59, 44091.59, 44091.59, 44091.59, 44091.59, 44091.59, 46823.28, 46823.28, 46823.28, 46823.28, 46823.28, 46823.28, 46823.28, 46823.28, 46823.28, 46823.28, 46823.28, 46823.28, 46823.28, 46823.28, 46823.28, 46823.28, 46823.28, 46823.28, 46823.28, 49272.54, 49272.54, 49272.54, 51480.28, 51480.28], \"yaxis\": \"y3\"}, {\"mode\": \"lines\", \"name\": \"bitstamp:/USD:/total\", \"type\": \"scatter\", \"uid\": \"d92aa5dc-47d4-42b5-8969-98d836cf02af\", \"xaxis\": \"x3\", \"y\": [10000.0, 8000.0, 7200.0, 21500.99, 20780.99, 18188.99, 17022.59, 15117.47, 14954.17, 14823.53, 37744.32, 37639.81, 37514.4, 37485.14, 44354.95, 44275.94, 44239.07, 44194.83, 44184.51, 44165.93, 44158.5, 44138.43, 44129.06, 44121.57, 44121.57, 44121.57, 44115.57, 46847.26, 46847.26, 46842.46, 46842.46, 46838.62, 46838.62, 46838.62, 46838.62, 46838.62, 46838.62, 46838.62, 46838.62, 46838.62, 46838.62, 46838.62, 46838.62, 46838.62, 46832.48, 46828.8, 49278.06, 49278.06, 49278.06, 51485.8, 51485.8], \"yaxis\": \"y3\"}, {\"mode\": \"lines\", \"name\": \"bitstamp:/BTC:/free\", \"type\": \"scatter\", \"uid\": \"03f2b180-7aca-4b37-bf45-cbc334c4d8dd\", \"xaxis\": \"x3\", \"y\": [10.0, 10.0, 10.0, 8.0, 8.0, 8.0, 8.0, 8.0, 8.0, 8.0, 4.8, 4.8, 4.8, 4.8, 3.84, 3.84, 3.84, 3.84, 3.84, 3.84, 3.84, 3.84, 3.84, 3.84, 3.84, 3.84, 3.84, 3.456, 3.456, 3.456, 3.456, 3.456, 3.456, 3.456, 3.456, 3.456, 3.456, 3.456, 3.456, 3.456, 3.456, 3.456, 3.456, 3.456, 3.456, 3.456, 3.1104, 3.1104, 3.1104, 2.79936, 2.79936], \"yaxis\": \"y3\"}, {\"mode\": \"lines\", \"name\": \"bitstamp:/BTC:/locked\", \"type\": \"scatter\", \"uid\": \"60bee418-91d9-4b56-bf2e-83b845cd18fb\", \"xaxis\": \"x3\", \"y\": [0.0, 0.2782433, 0.38950693, 0.38950693, 0.48961026, 0.84987971, 1.01200472, 1.27682099, 1.29952009, 1.31765886, 1.31765886, 1.33216919, 1.34957801, 1.35363955, 1.35363955, 1.36462124, 1.36975003, 1.37590229, 1.37733848, 1.37992336, 1.38095753, 1.38375117, 1.38505539, 1.38609796, 1.38609796, 1.38609796, 1.38693681, 1.38693681, 1.38693681, 1.38760863, 1.38760863, 1.38814573, 1.38814573, 1.38814573, 1.38814573, 1.38814573, 1.38814573, 1.38814573, 1.38814573, 1.38814573, 1.38814573, 1.38814573, 1.38814573, 1.38814573, 1.38900428, 1.38951995, 1.38951995, 1.38951995, 1.38951995, 1.38951995, 1.38951995], \"yaxis\": \"y3\"}, {\"mode\": \"lines\", \"name\": \"bitstamp:/BTC:/total\", \"type\": \"scatter\", \"uid\": \"2295a212-b108-4c3a-9cc2-cd67092a0f4e\", \"xaxis\": \"x3\", \"y\": [10.0, 10.2782433, 10.38950693, 8.38950693, 8.48961026, 8.84987971, 9.01200472, 9.27682099, 9.29952009, 9.31765886, 6.11765886, 6.13216919, 6.14957801, 6.15363955, 5.19363955, 5.20462124, 5.20975003, 5.21590229, 5.21733848, 5.21992336, 5.22095753, 5.22375117, 5.22505539, 5.22609796, 5.22609796, 5.22609796, 5.22693681, 4.84293681, 4.84293681, 4.84360863, 4.84360863, 4.84414573, 4.84414573, 4.84414573, 4.84414573, 4.84414573, 4.84414573, 4.84414573, 4.84414573, 4.84414573, 4.84414573, 4.84414573, 4.84414573, 4.84414573, 4.84500428, 4.84551995, 4.49991995, 4.49991995, 4.49991995, 4.18887995, 4.18887995], \"yaxis\": \"y3\"}, {\"mode\": \"lines\", \"name\": \"bitstamp:/BTC:/worth\", \"type\": \"scatter\", \"uid\": \"c8916686-15ef-44e6-8bf2-f40e73437ac0\", \"xaxis\": \"x3\", \"y\": [71663.90000000001, 73680.203790648, 74513.6475970293, 60161.070299960695, 60896.1441871852, 63478.948176670594, 64638.7840942944, 66538.27685540469, 66777.5288862675, 66940.856547898, 43931.4588629574, 44041.1778008881, 44166.26926782, 44168.240161289, 37253.197446217506, 37303.4981831512, 37352.44898509161, 37370.896727392, 37380.821527810396, 37401.7426598384, 37396.2047097063, 37409.162678791196, 37437.52186935, 37448.911456869995, 37327.0388524428, 37255.9639201868, 37295.0827186077, 34547.2350222393, 34529.752020355205, 34567.914506670306, 34539.385651839606, 34543.2156689716, 34592.5775139603, 34592.529072503006, 34592.5775139603, 34592.5775139603, 34551.4507167126, 34554.114996864104, 34543.118786057, 34560.1701790266, 34572.66807501, 34525.4860955998, 34538.5168476135, 34530.6208900736, 34481.89546076, 34443.409460585, 31980.6160902535, 31944.391734655997, 32036.190101636, 29820.552586450995, 29823.275358418497], \"yaxis\": \"y3\"}, {\"mode\": \"lines\", \"name\": \"net_worth\", \"type\": \"scatter\", \"uid\": \"276cbc23-0330-4abf-b371-14b6cc841057\", \"xaxis\": \"x3\", \"y\": [81663.90000000001, 81680.203790648, 81713.6475970293, 81662.06029996069, 81677.1341871852, 81667.93817667059, 81661.3740942944, 81655.7468554047, 81731.69888626749, 81764.386547898, 81675.7788629574, 81680.9878008881, 81680.66926781999, 81653.38016128901, 81608.14744621751, 81579.4381831512, 81591.5189850916, 81565.726727392, 81565.3315278104, 81567.6726598384, 81554.7047097063, 81547.5926787912, 81566.58186934999, 81570.48145687, 81448.60885244279, 81377.5339201868, 81410.6527186077, 81394.49502223931, 81377.0120203552, 81410.37450667031, 81381.8456518396, 81381.8356689716, 81431.1975139603, 81431.149072503, 81431.1975139603, 81431.1975139603, 81390.0707167126, 81392.7349968641, 81381.738786057, 81398.7901790266, 81411.28807501, 81364.1060955998, 81377.1368476135, 81369.2408900736, 81314.37546076, 81272.209460585, 81258.6760902535, 81222.451734656, 81314.25010163599, 81306.352586451, 81309.0753584185], \"yaxis\": \"y3\"}, {\"marker\": {\"color\": \"DarkGreen\"}, \"mode\": \"lines\", \"name\": \"Net Worth\", \"type\": \"scatter\", \"uid\": \"25ea341e-489b-4bf7-a2b9-893c1fadaacf\", \"xaxis\": \"x4\", \"y\": [81663.90000000001, 81680.203790648, 81713.6475970293, 81662.06029996069, 81677.1341871852, 81667.93817667059, 81661.3740942944, 81655.7468554047, 81731.69888626749, 81764.386547898, 81675.7788629574, 81680.9878008881, 81680.66926781999, 81653.38016128901, 81608.14744621751, 81579.4381831512, 81591.5189850916, 81565.726727392, 81565.3315278104, 81567.6726598384, 81554.7047097063, 81547.5926787912, 81566.58186934999, 81570.48145687, 81448.60885244279, 81377.5339201868, 81410.6527186077, 81394.49502223931, 81377.0120203552, 81410.37450667031, 81381.8456518396, 81381.8356689716, 81431.1975139603, 81431.149072503, 81431.1975139603, 81431.1975139603, 81390.0707167126, 81392.7349968641, 81381.738786057, 81398.7901790266, 81411.28807501, 81364.1060955998, 81377.1368476135, 81369.2408900736, 81314.37546076, 81272.209460585, 81258.6760902535, 81222.451734656, 81314.25010163599, 81306.352586451, 81309.0753584185], \"yaxis\": \"y4\"}],                        {\"annotations\": [{\"arrowcolor\": \"FireBrick\", \"arrowhead\": 2, \"arrowsize\": 0.8, \"arrowwidth\": 4, \"ax\": 0, \"ay\": -15, \"hoverlabel\": {\"bgcolor\": \"FireBrick\"}, \"hovertext\": \"Step 49 [01_01_2020]<br>SELL 0.31010688 BTC @ 7119.28 USD MARKET<br>Total: 2207.74 USD - Comm.: 0.00093312 BTC\", \"opacity\": 0.6, \"showarrow\": true, \"x\": 48, \"xref\": \"x\", \"y\": 7119.28, \"yref\": \"y\"}, {\"arrowcolor\": \"FireBrick\", \"arrowhead\": 2, \"arrowsize\": 0.8, \"arrowwidth\": 4, \"ax\": 0, \"ay\": -15, \"hoverlabel\": {\"bgcolor\": \"FireBrick\"}, \"hovertext\": \"Step 46 [01_01_2020]<br>SELL 0.3445632 BTC @ 7108.3 USD MARKET<br>Total: 2449.26 USD - Comm.: 0.00103680 BTC\", \"opacity\": 0.6, \"showarrow\": true, \"x\": 45, \"xref\": \"x\", \"y\": 7108.3, \"yref\": \"y\"}, {\"arrowcolor\": \"DarkGreen\", \"arrowhead\": 2, \"arrowsize\": 0.8, \"arrowwidth\": 4, \"ax\": 0, \"ay\": 15, \"hoverlabel\": {\"bgcolor\": \"DarkGreen\"}, \"hovertext\": \"Step 45 [01_01_2020]<br>BUY 0.00051567 BTC @ 7117.0 USD MARKET<br>Total: 3.67 USD - Comm.: 0.01 USD\", \"opacity\": 0.6, \"showarrow\": true, \"x\": 44, \"xref\": \"x\", \"y\": 7117.0, \"yref\": \"y\"}, {\"arrowcolor\": \"DarkGreen\", \"arrowhead\": 2, \"arrowsize\": 0.8, \"arrowwidth\": 4, \"ax\": 0, \"ay\": 15, \"hoverlabel\": {\"bgcolor\": \"DarkGreen\"}, \"hovertext\": \"Step 44 [01_01_2020]<br>BUY 0.00085855 BTC @ 7128.32 USD MARKET<br>Total: 6.12 USD - Comm.: 0.02 USD\", \"opacity\": 0.6, \"showarrow\": true, \"x\": 43, \"xref\": \"x\", \"y\": 7128.32, \"yref\": \"y\"}, {\"arrowcolor\": \"DarkGreen\", \"arrowhead\": 2, \"arrowsize\": 0.8, \"arrowwidth\": 4, \"ax\": 0, \"ay\": 15, \"hoverlabel\": {\"bgcolor\": \"DarkGreen\"}, \"hovertext\": \"Step 31 [01_01_2020]<br>BUY 0.0005371 BTC @ 7130.92 USD MARKET<br>Total: 3.83 USD - Comm.: 0.01 USD\", \"opacity\": 0.6, \"showarrow\": true, \"x\": 30, \"xref\": \"x\", \"y\": 7130.92, \"yref\": \"y\"}, {\"arrowcolor\": \"DarkGreen\", \"arrowhead\": 2, \"arrowsize\": 0.8, \"arrowwidth\": 4, \"ax\": 0, \"ay\": 15, \"hoverlabel\": {\"bgcolor\": \"DarkGreen\"}, \"hovertext\": \"Step 29 [01_01_2020]<br>BUY 0.00067182 BTC @ 7129.92 USD MARKET<br>Total: 4.79 USD - Comm.: 0.01 USD\", \"opacity\": 0.6, \"showarrow\": true, \"x\": 28, \"xref\": \"x\", \"y\": 7129.92, \"yref\": \"y\"}, {\"arrowcolor\": \"FireBrick\", \"arrowhead\": 2, \"arrowsize\": 0.8, \"arrowwidth\": 4, \"ax\": 0, \"ay\": -15, \"hoverlabel\": {\"bgcolor\": \"FireBrick\"}, \"hovertext\": \"Step 27 [01_01_2020]<br>SELL 0.382848 BTC @ 7135.17 USD MARKET<br>Total: 2731.69 USD - Comm.: 0.00115200 BTC\", \"opacity\": 0.6, \"showarrow\": true, \"x\": 26, \"xref\": \"x\", \"y\": 7135.17, \"yref\": \"y\"}, {\"arrowcolor\": \"DarkGreen\", \"arrowhead\": 2, \"arrowsize\": 0.8, \"arrowwidth\": 4, \"ax\": 0, \"ay\": 15, \"hoverlabel\": {\"bgcolor\": \"DarkGreen\"}, \"hovertext\": \"Step 26 [01_01_2020]<br>BUY 0.00083885 BTC @ 7128.83 USD MARKET<br>Total: 5.98 USD - Comm.: 0.02 USD\", \"opacity\": 0.6, \"showarrow\": true, \"x\": 25, \"xref\": \"x\", \"y\": 7128.83, \"yref\": \"y\"}, {\"arrowcolor\": \"DarkGreen\", \"arrowhead\": 2, \"arrowsize\": 0.8, \"arrowwidth\": 4, \"ax\": 0, \"ay\": 15, \"hoverlabel\": {\"bgcolor\": \"DarkGreen\"}, \"hovertext\": \"Step 23 [01_01_2020]<br>BUY 0.00104257 BTC @ 7165.0 USD MARKET<br>Total: 7.47 USD - Comm.: 0.02 USD\", \"opacity\": 0.6, \"showarrow\": true, \"x\": 22, \"xref\": \"x\", \"y\": 7165.0, \"yref\": \"y\"}, {\"arrowcolor\": \"DarkGreen\", \"arrowhead\": 2, \"arrowsize\": 0.8, \"arrowwidth\": 4, \"ax\": 0, \"ay\": 15, \"hoverlabel\": {\"bgcolor\": \"DarkGreen\"}, \"hovertext\": \"Step 22 [01_01_2020]<br>BUY 0.00130422 BTC @ 7161.36 USD MARKET<br>Total: 9.34 USD - Comm.: 0.03 USD\", \"opacity\": 0.6, \"showarrow\": true, \"x\": 21, \"xref\": \"x\", \"y\": 7161.36, \"yref\": \"y\"}, {\"arrowcolor\": \"DarkGreen\", \"arrowhead\": 2, \"arrowsize\": 0.8, \"arrowwidth\": 4, \"ax\": 0, \"ay\": 15, \"hoverlabel\": {\"bgcolor\": \"DarkGreen\"}, \"hovertext\": \"Step 21 [01_01_2020]<br>BUY 0.00279364 BTC @ 7162.71 USD MARKET<br>Total: 20.01 USD - Comm.: 0.06 USD\", \"opacity\": 0.6, \"showarrow\": true, \"x\": 20, \"xref\": \"x\", \"y\": 7162.71, \"yref\": \"y\"}, {\"arrowcolor\": \"DarkGreen\", \"arrowhead\": 2, \"arrowsize\": 0.8, \"arrowwidth\": 4, \"ax\": 0, \"ay\": 15, \"hoverlabel\": {\"bgcolor\": \"DarkGreen\"}, \"hovertext\": \"Step 20 [01_01_2020]<br>BUY 0.00103417 BTC @ 7165.19 USD MARKET<br>Total: 7.41 USD - Comm.: 0.02 USD\", \"opacity\": 0.6, \"showarrow\": true, \"x\": 19, \"xref\": \"x\", \"y\": 7165.19, \"yref\": \"y\"}, {\"arrowcolor\": \"DarkGreen\", \"arrowhead\": 2, \"arrowsize\": 0.8, \"arrowwidth\": 4, \"ax\": 0, \"ay\": 15, \"hoverlabel\": {\"bgcolor\": \"DarkGreen\"}, \"hovertext\": \"Step 19 [01_01_2020]<br>BUY 0.00258488 BTC @ 7164.73 USD MARKET<br>Total: 18.52 USD - Comm.: 0.06 USD\", \"opacity\": 0.6, \"showarrow\": true, \"x\": 18, \"xref\": \"x\", \"y\": 7164.73, \"yref\": \"y\"}, {\"arrowcolor\": \"DarkGreen\", \"arrowhead\": 2, \"arrowsize\": 0.8, \"arrowwidth\": 4, \"ax\": 0, \"ay\": 15, \"hoverlabel\": {\"bgcolor\": \"DarkGreen\"}, \"hovertext\": \"Step 18 [01_01_2020]<br>BUY 0.00143619 BTC @ 7164.8 USD MARKET<br>Total: 10.29 USD - Comm.: 0.03 USD\", \"opacity\": 0.6, \"showarrow\": true, \"x\": 17, \"xref\": \"x\", \"y\": 7164.8, \"yref\": \"y\"}, {\"arrowcolor\": \"DarkGreen\", \"arrowhead\": 2, \"arrowsize\": 0.8, \"arrowwidth\": 4, \"ax\": 0, \"ay\": 15, \"hoverlabel\": {\"bgcolor\": \"DarkGreen\"}, \"hovertext\": \"Step 17 [01_01_2020]<br>BUY 0.00615226 BTC @ 7169.72 USD MARKET<br>Total: 44.11 USD - Comm.: 0.13 USD\", \"opacity\": 0.6, \"showarrow\": true, \"x\": 16, \"xref\": \"x\", \"y\": 7169.72, \"yref\": \"y\"}, {\"arrowcolor\": \"DarkGreen\", \"arrowhead\": 2, \"arrowsize\": 0.8, \"arrowwidth\": 4, \"ax\": 0, \"ay\": 15, \"hoverlabel\": {\"bgcolor\": \"DarkGreen\"}, \"hovertext\": \"Step 16 [01_01_2020]<br>BUY 0.00512879 BTC @ 7167.38 USD MARKET<br>Total: 36.76 USD - Comm.: 0.11 USD\", \"opacity\": 0.6, \"showarrow\": true, \"x\": 15, \"xref\": \"x\", \"y\": 7167.38, \"yref\": \"y\"}, {\"arrowcolor\": \"DarkGreen\", \"arrowhead\": 2, \"arrowsize\": 0.8, \"arrowwidth\": 4, \"ax\": 0, \"ay\": 15, \"hoverlabel\": {\"bgcolor\": \"DarkGreen\"}, \"hovertext\": \"Step 15 [01_01_2020]<br>BUY 0.01098169 BTC @ 7172.85 USD MARKET<br>Total: 78.77 USD - Comm.: 0.24 USD\", \"opacity\": 0.6, \"showarrow\": true, \"x\": 14, \"xref\": \"x\", \"y\": 7172.85, \"yref\": \"y\"}, {\"arrowcolor\": \"FireBrick\", \"arrowhead\": 2, \"arrowsize\": 0.8, \"arrowwidth\": 4, \"ax\": 0, \"ay\": -15, \"hoverlabel\": {\"bgcolor\": \"FireBrick\"}, \"hovertext\": \"Step 14 [01_01_2020]<br>SELL 0.95712 BTC @ 7177.58 USD MARKET<br>Total: 6869.81 USD - Comm.: 0.00288000 BTC\", \"opacity\": 0.6, \"showarrow\": true, \"x\": 13, \"xref\": \"x\", \"y\": 7177.58, \"yref\": \"y\"}, {\"arrowcolor\": \"DarkGreen\", \"arrowhead\": 2, \"arrowsize\": 0.8, \"arrowwidth\": 4, \"ax\": 0, \"ay\": 15, \"hoverlabel\": {\"bgcolor\": \"DarkGreen\"}, \"hovertext\": \"Step 13 [01_01_2020]<br>BUY 0.00406154 BTC @ 7182.0 USD MARKET<br>Total: 29.17 USD - Comm.: 0.09 USD\", \"opacity\": 0.6, \"showarrow\": true, \"x\": 12, \"xref\": \"x\", \"y\": 7182.0, \"yref\": \"y\"}, {\"arrowcolor\": \"DarkGreen\", \"arrowhead\": 2, \"arrowsize\": 0.8, \"arrowwidth\": 4, \"ax\": 0, \"ay\": 15, \"hoverlabel\": {\"bgcolor\": \"DarkGreen\"}, \"hovertext\": \"Step 12 [01_01_2020]<br>BUY 0.01740882 BTC @ 7181.99 USD MARKET<br>Total: 125.03 USD - Comm.: 0.38 USD\", \"opacity\": 0.6, \"showarrow\": true, \"x\": 11, \"xref\": \"x\", \"y\": 7181.99, \"yref\": \"y\"}, {\"arrowcolor\": \"DarkGreen\", \"arrowhead\": 2, \"arrowsize\": 0.8, \"arrowwidth\": 4, \"ax\": 0, \"ay\": 15, \"hoverlabel\": {\"bgcolor\": \"DarkGreen\"}, \"hovertext\": \"Step 11 [01_01_2020]<br>BUY 0.01451033 BTC @ 7181.09 USD MARKET<br>Total: 104.2 USD - Comm.: 0.31 USD\", \"opacity\": 0.6, \"showarrow\": true, \"x\": 10, \"xref\": \"x\", \"y\": 7181.09, \"yref\": \"y\"}, {\"arrowcolor\": \"FireBrick\", \"arrowhead\": 2, \"arrowsize\": 0.8, \"arrowwidth\": 4, \"ax\": 0, \"ay\": -15, \"hoverlabel\": {\"bgcolor\": \"FireBrick\"}, \"hovertext\": \"Step 10 [01_01_2020]<br>SELL 3.1904 BTC @ 7184.3 USD MARKET<br>Total: 22920.79 USD - Comm.: 0.00960000 BTC\", \"opacity\": 0.6, \"showarrow\": true, \"x\": 9, \"xref\": \"x\", \"y\": 7184.3, \"yref\": \"y\"}, {\"arrowcolor\": \"DarkGreen\", \"arrowhead\": 2, \"arrowsize\": 0.8, \"arrowwidth\": 4, \"ax\": 0, \"ay\": 15, \"hoverlabel\": {\"bgcolor\": \"DarkGreen\"}, \"hovertext\": \"Step 9 [01_01_2020]<br>BUY 0.01813877 BTC @ 7180.75 USD MARKET<br>Total: 130.25 USD - Comm.: 0.39 USD\", \"opacity\": 0.6, \"showarrow\": true, \"x\": 8, \"xref\": \"x\", \"y\": 7180.75, \"yref\": \"y\"}, {\"arrowcolor\": \"DarkGreen\", \"arrowhead\": 2, \"arrowsize\": 0.8, \"arrowwidth\": 4, \"ax\": 0, \"ay\": 15, \"hoverlabel\": {\"bgcolor\": \"DarkGreen\"}, \"hovertext\": \"Step 8 [01_01_2020]<br>BUY 0.0226991 BTC @ 7172.53 USD MARKET<br>Total: 162.81 USD - Comm.: 0.49 USD\", \"opacity\": 0.6, \"showarrow\": true, \"x\": 7, \"xref\": \"x\", \"y\": 7172.53, \"yref\": \"y\"}, {\"arrowcolor\": \"DarkGreen\", \"arrowhead\": 2, \"arrowsize\": 0.8, \"arrowwidth\": 4, \"ax\": 0, \"ay\": 15, \"hoverlabel\": {\"bgcolor\": \"DarkGreen\"}, \"hovertext\": \"Step 7 [01_01_2020]<br>BUY 0.26481627 BTC @ 7172.52 USD MARKET<br>Total: 1899.4 USD - Comm.: 5.72 USD\", \"opacity\": 0.6, \"showarrow\": true, \"x\": 6, \"xref\": \"x\", \"y\": 7172.52, \"yref\": \"y\"}, {\"arrowcolor\": \"DarkGreen\", \"arrowhead\": 2, \"arrowsize\": 0.8, \"arrowwidth\": 4, \"ax\": 0, \"ay\": 15, \"hoverlabel\": {\"bgcolor\": \"DarkGreen\"}, \"hovertext\": \"Step 6 [01_01_2020]<br>BUY 0.16212501 BTC @ 7172.86 USD MARKET<br>Total: 1162.9 USD - Comm.: 3.50 USD\", \"opacity\": 0.6, \"showarrow\": true, \"x\": 5, \"xref\": \"x\", \"y\": 7172.86, \"yref\": \"y\"}, {\"arrowcolor\": \"DarkGreen\", \"arrowhead\": 2, \"arrowsize\": 0.8, \"arrowwidth\": 4, \"ax\": 0, \"ay\": 15, \"hoverlabel\": {\"bgcolor\": \"DarkGreen\"}, \"hovertext\": \"Step 5 [01_01_2020]<br>BUY 0.36026945 BTC @ 7173.02 USD MARKET<br>Total: 2584.22 USD - Comm.: 7.78 USD\", \"opacity\": 0.6, \"showarrow\": true, \"x\": 4, \"xref\": \"x\", \"y\": 7173.02, \"yref\": \"y\"}, {\"arrowcolor\": \"DarkGreen\", \"arrowhead\": 2, \"arrowsize\": 0.8, \"arrowwidth\": 4, \"ax\": 0, \"ay\": 15, \"hoverlabel\": {\"bgcolor\": \"DarkGreen\"}, \"hovertext\": \"Step 4 [01_01_2020]<br>BUY 0.10010333 BTC @ 7170.99 USD MARKET<br>Total: 717.84 USD - Comm.: 2.16 USD\", \"opacity\": 0.6, \"showarrow\": true, \"x\": 3, \"xref\": \"x\", \"y\": 7170.99, \"yref\": \"y\"}, {\"arrowcolor\": \"FireBrick\", \"arrowhead\": 2, \"arrowsize\": 0.8, \"arrowwidth\": 4, \"ax\": 0, \"ay\": -15, \"hoverlabel\": {\"bgcolor\": \"FireBrick\"}, \"hovertext\": \"Step 3 [01_01_2020]<br>SELL 1.994 BTC @ 7172.01 USD MARKET<br>Total: 14300.99 USD - Comm.: 0.00600000 BTC\", \"opacity\": 0.6, \"showarrow\": true, \"x\": 2, \"xref\": \"x\", \"y\": 7172.01, \"yref\": \"y\"}, {\"arrowcolor\": \"DarkGreen\", \"arrowhead\": 2, \"arrowsize\": 0.8, \"arrowwidth\": 4, \"ax\": 0, \"ay\": 15, \"hoverlabel\": {\"bgcolor\": \"DarkGreen\"}, \"hovertext\": \"Step 2 [01_01_2020]<br>BUY 0.11126363 BTC @ 7168.56 USD MARKET<br>Total: 797.6 USD - Comm.: 2.40 USD\", \"opacity\": 0.6, \"showarrow\": true, \"x\": 1, \"xref\": \"x\", \"y\": 7168.56, \"yref\": \"y\"}, {\"arrowcolor\": \"DarkGreen\", \"arrowhead\": 2, \"arrowsize\": 0.8, \"arrowwidth\": 4, \"ax\": 0, \"ay\": 15, \"hoverlabel\": {\"bgcolor\": \"DarkGreen\"}, \"hovertext\": \"Step 1 [01_01_2020]<br>BUY 0.2782433 BTC @ 7166.39 USD MARKET<br>Total: 1994.0 USD - Comm.: 6.00 USD\", \"opacity\": 0.6, \"showarrow\": true, \"x\": 0, \"xref\": \"x\", \"y\": 7166.39, \"yref\": \"y\"}], \"margin\": {\"t\": 50}, \"template\": {\"data\": {\"bar\": [{\"error_x\": {\"color\": \"#2a3f5f\"}, \"error_y\": {\"color\": \"#2a3f5f\"}, \"marker\": {\"line\": {\"color\": \"white\", \"width\": 0.5}}, \"type\": \"bar\"}], \"barpolar\": [{\"marker\": {\"line\": {\"color\": \"white\", \"width\": 0.5}}, \"type\": \"barpolar\"}], \"carpet\": [{\"aaxis\": {\"endlinecolor\": \"#2a3f5f\", \"gridcolor\": \"#C8D4E3\", \"linecolor\": \"#C8D4E3\", \"minorgridcolor\": \"#C8D4E3\", \"startlinecolor\": \"#2a3f5f\"}, \"baxis\": {\"endlinecolor\": \"#2a3f5f\", \"gridcolor\": \"#C8D4E3\", \"linecolor\": \"#C8D4E3\", \"minorgridcolor\": \"#C8D4E3\", \"startlinecolor\": \"#2a3f5f\"}, \"type\": \"carpet\"}], \"choropleth\": [{\"colorbar\": {\"outlinewidth\": 0, \"ticks\": \"\"}, \"type\": \"choropleth\"}], \"contour\": [{\"colorbar\": {\"outlinewidth\": 0, \"ticks\": \"\"}, \"colorscale\": [[0.0, \"#0d0887\"], [0.1111111111111111, \"#46039f\"], [0.2222222222222222, \"#7201a8\"], [0.3333333333333333, \"#9c179e\"], [0.4444444444444444, \"#bd3786\"], [0.5555555555555556, \"#d8576b\"], [0.6666666666666666, \"#ed7953\"], [0.7777777777777778, \"#fb9f3a\"], [0.8888888888888888, \"#fdca26\"], [1.0, \"#f0f921\"]], \"type\": \"contour\"}], \"contourcarpet\": [{\"colorbar\": {\"outlinewidth\": 0, \"ticks\": \"\"}, \"type\": \"contourcarpet\"}], \"heatmap\": [{\"colorbar\": {\"outlinewidth\": 0, \"ticks\": \"\"}, \"colorscale\": [[0.0, \"#0d0887\"], [0.1111111111111111, \"#46039f\"], [0.2222222222222222, \"#7201a8\"], [0.3333333333333333, \"#9c179e\"], [0.4444444444444444, \"#bd3786\"], [0.5555555555555556, \"#d8576b\"], [0.6666666666666666, \"#ed7953\"], [0.7777777777777778, \"#fb9f3a\"], [0.8888888888888888, \"#fdca26\"], [1.0, \"#f0f921\"]], \"type\": \"heatmap\"}], \"heatmapgl\": [{\"colorbar\": {\"outlinewidth\": 0, \"ticks\": \"\"}, \"colorscale\": [[0.0, \"#0d0887\"], [0.1111111111111111, \"#46039f\"], [0.2222222222222222, \"#7201a8\"], [0.3333333333333333, \"#9c179e\"], [0.4444444444444444, \"#bd3786\"], [0.5555555555555556, \"#d8576b\"], [0.6666666666666666, \"#ed7953\"], [0.7777777777777778, \"#fb9f3a\"], [0.8888888888888888, \"#fdca26\"], [1.0, \"#f0f921\"]], \"type\": \"heatmapgl\"}], \"histogram\": [{\"marker\": {\"colorbar\": {\"outlinewidth\": 0, \"ticks\": \"\"}}, \"type\": \"histogram\"}], \"histogram2d\": [{\"colorbar\": {\"outlinewidth\": 0, \"ticks\": \"\"}, \"colorscale\": [[0.0, \"#0d0887\"], [0.1111111111111111, \"#46039f\"], [0.2222222222222222, \"#7201a8\"], [0.3333333333333333, \"#9c179e\"], [0.4444444444444444, \"#bd3786\"], [0.5555555555555556, \"#d8576b\"], [0.6666666666666666, \"#ed7953\"], [0.7777777777777778, \"#fb9f3a\"], [0.8888888888888888, \"#fdca26\"], [1.0, \"#f0f921\"]], \"type\": \"histogram2d\"}], \"histogram2dcontour\": [{\"colorbar\": {\"outlinewidth\": 0, \"ticks\": \"\"}, \"colorscale\": [[0.0, \"#0d0887\"], [0.1111111111111111, \"#46039f\"], [0.2222222222222222, \"#7201a8\"], [0.3333333333333333, \"#9c179e\"], [0.4444444444444444, \"#bd3786\"], [0.5555555555555556, \"#d8576b\"], [0.6666666666666666, \"#ed7953\"], [0.7777777777777778, \"#fb9f3a\"], [0.8888888888888888, \"#fdca26\"], [1.0, \"#f0f921\"]], \"type\": \"histogram2dcontour\"}], \"mesh3d\": [{\"colorbar\": {\"outlinewidth\": 0, \"ticks\": \"\"}, \"type\": \"mesh3d\"}], \"parcoords\": [{\"line\": {\"colorbar\": {\"outlinewidth\": 0, \"ticks\": \"\"}}, \"type\": \"parcoords\"}], \"pie\": [{\"automargin\": true, \"type\": \"pie\"}], \"scatter\": [{\"marker\": {\"colorbar\": {\"outlinewidth\": 0, \"ticks\": \"\"}}, \"type\": \"scatter\"}], \"scatter3d\": [{\"line\": {\"colorbar\": {\"outlinewidth\": 0, \"ticks\": \"\"}}, \"marker\": {\"colorbar\": {\"outlinewidth\": 0, \"ticks\": \"\"}}, \"type\": \"scatter3d\"}], \"scattercarpet\": [{\"marker\": {\"colorbar\": {\"outlinewidth\": 0, \"ticks\": \"\"}}, \"type\": \"scattercarpet\"}], \"scattergeo\": [{\"marker\": {\"colorbar\": {\"outlinewidth\": 0, \"ticks\": \"\"}}, \"type\": \"scattergeo\"}], \"scattergl\": [{\"marker\": {\"colorbar\": {\"outlinewidth\": 0, \"ticks\": \"\"}}, \"type\": \"scattergl\"}], \"scattermapbox\": [{\"marker\": {\"colorbar\": {\"outlinewidth\": 0, \"ticks\": \"\"}}, \"type\": \"scattermapbox\"}], \"scatterpolar\": [{\"marker\": {\"colorbar\": {\"outlinewidth\": 0, \"ticks\": \"\"}}, \"type\": \"scatterpolar\"}], \"scatterpolargl\": [{\"marker\": {\"colorbar\": {\"outlinewidth\": 0, \"ticks\": \"\"}}, \"type\": \"scatterpolargl\"}], \"scatterternary\": [{\"marker\": {\"colorbar\": {\"outlinewidth\": 0, \"ticks\": \"\"}}, \"type\": \"scatterternary\"}], \"surface\": [{\"colorbar\": {\"outlinewidth\": 0, \"ticks\": \"\"}, \"colorscale\": [[0.0, \"#0d0887\"], [0.1111111111111111, \"#46039f\"], [0.2222222222222222, \"#7201a8\"], [0.3333333333333333, \"#9c179e\"], [0.4444444444444444, \"#bd3786\"], [0.5555555555555556, \"#d8576b\"], [0.6666666666666666, \"#ed7953\"], [0.7777777777777778, \"#fb9f3a\"], [0.8888888888888888, \"#fdca26\"], [1.0, \"#f0f921\"]], \"type\": \"surface\"}], \"table\": [{\"cells\": {\"fill\": {\"color\": \"#EBF0F8\"}, \"line\": {\"color\": \"white\"}}, \"header\": {\"fill\": {\"color\": \"#C8D4E3\"}, \"line\": {\"color\": \"white\"}}, \"type\": \"table\"}]}, \"layout\": {\"annotationdefaults\": {\"arrowcolor\": \"#2a3f5f\", \"arrowhead\": 0, \"arrowwidth\": 1}, \"autotypenumbers\": \"strict\", \"coloraxis\": {\"colorbar\": {\"outlinewidth\": 0, \"ticks\": \"\"}}, \"colorscale\": {\"diverging\": [[0, \"#8e0152\"], [0.1, \"#c51b7d\"], [0.2, \"#de77ae\"], [0.3, \"#f1b6da\"], [0.4, \"#fde0ef\"], [0.5, \"#f7f7f7\"], [0.6, \"#e6f5d0\"], [0.7, \"#b8e186\"], [0.8, \"#7fbc41\"], [0.9, \"#4d9221\"], [1, \"#276419\"]], \"sequential\": [[0.0, \"#0d0887\"], [0.1111111111111111, \"#46039f\"], [0.2222222222222222, \"#7201a8\"], [0.3333333333333333, \"#9c179e\"], [0.4444444444444444, \"#bd3786\"], [0.5555555555555556, \"#d8576b\"], [0.6666666666666666, \"#ed7953\"], [0.7777777777777778, \"#fb9f3a\"], [0.8888888888888888, \"#fdca26\"], [1.0, \"#f0f921\"]], \"sequentialminus\": [[0.0, \"#0d0887\"], [0.1111111111111111, \"#46039f\"], [0.2222222222222222, \"#7201a8\"], [0.3333333333333333, \"#9c179e\"], [0.4444444444444444, \"#bd3786\"], [0.5555555555555556, \"#d8576b\"], [0.6666666666666666, \"#ed7953\"], [0.7777777777777778, \"#fb9f3a\"], [0.8888888888888888, \"#fdca26\"], [1.0, \"#f0f921\"]]}, \"colorway\": [\"#636efa\", \"#EF553B\", \"#00cc96\", \"#ab63fa\", \"#FFA15A\", \"#19d3f3\", \"#FF6692\", \"#B6E880\", \"#FF97FF\", \"#FECB52\"], \"font\": {\"color\": \"#2a3f5f\"}, \"geo\": {\"bgcolor\": \"white\", \"lakecolor\": \"white\", \"landcolor\": \"white\", \"showlakes\": true, \"showland\": true, \"subunitcolor\": \"#C8D4E3\"}, \"hoverlabel\": {\"align\": \"left\"}, \"hovermode\": \"closest\", \"mapbox\": {\"style\": \"light\"}, \"paper_bgcolor\": \"white\", \"plot_bgcolor\": \"white\", \"polar\": {\"angularaxis\": {\"gridcolor\": \"#EBF0F8\", \"linecolor\": \"#EBF0F8\", \"ticks\": \"\"}, \"bgcolor\": \"white\", \"radialaxis\": {\"gridcolor\": \"#EBF0F8\", \"linecolor\": \"#EBF0F8\", \"ticks\": \"\"}}, \"scene\": {\"xaxis\": {\"backgroundcolor\": \"white\", \"gridcolor\": \"#DFE8F3\", \"gridwidth\": 2, \"linecolor\": \"#EBF0F8\", \"showbackground\": true, \"ticks\": \"\", \"zerolinecolor\": \"#EBF0F8\"}, \"yaxis\": {\"backgroundcolor\": \"white\", \"gridcolor\": \"#DFE8F3\", \"gridwidth\": 2, \"linecolor\": \"#EBF0F8\", \"showbackground\": true, \"ticks\": \"\", \"zerolinecolor\": \"#EBF0F8\"}, \"zaxis\": {\"backgroundcolor\": \"white\", \"gridcolor\": \"#DFE8F3\", \"gridwidth\": 2, \"linecolor\": \"#EBF0F8\", \"showbackground\": true, \"ticks\": \"\", \"zerolinecolor\": \"#EBF0F8\"}}, \"shapedefaults\": {\"line\": {\"color\": \"#2a3f5f\"}}, \"ternary\": {\"aaxis\": {\"gridcolor\": \"#DFE8F3\", \"linecolor\": \"#A2B1C6\", \"ticks\": \"\"}, \"baxis\": {\"gridcolor\": \"#DFE8F3\", \"linecolor\": \"#A2B1C6\", \"ticks\": \"\"}, \"bgcolor\": \"white\", \"caxis\": {\"gridcolor\": \"#DFE8F3\", \"linecolor\": \"#A2B1C6\", \"ticks\": \"\"}}, \"title\": {\"x\": 0.05}, \"xaxis\": {\"automargin\": true, \"gridcolor\": \"#EBF0F8\", \"linecolor\": \"#EBF0F8\", \"ticks\": \"\", \"title\": {\"standoff\": 15}, \"zerolinecolor\": \"#EBF0F8\", \"zerolinewidth\": 2}, \"yaxis\": {\"automargin\": true, \"gridcolor\": \"#EBF0F8\", \"linecolor\": \"#EBF0F8\", \"ticks\": \"\", \"title\": {\"standoff\": 15}, \"zerolinecolor\": \"#EBF0F8\", \"zerolinewidth\": 2}}}, \"title\": {\"text\": \"[2021-04-19 16:32:21 PM] Episode: 47/100 Step: 51/200\"}, \"xaxis\": {\"anchor\": \"y\", \"domain\": [0.0, 1.0], \"gridcolor\": \"Gainsboro\", \"linecolor\": \"Grey\", \"matches\": \"x4\", \"rangeslider\": {\"visible\": false}, \"showticklabels\": false, \"title\": {\"font\": {\"size\": 12}, \"standoff\": 7, \"text\": \"Price\"}}, \"xaxis2\": {\"anchor\": \"y2\", \"domain\": [0.0, 1.0], \"gridcolor\": \"Gainsboro\", \"linecolor\": \"Grey\", \"matches\": \"x4\", \"showticklabels\": false, \"title\": {\"font\": {\"size\": 12}, \"standoff\": 7, \"text\": \"Volume\"}}, \"xaxis3\": {\"anchor\": \"y3\", \"domain\": [0.0, 1.0], \"gridcolor\": \"Gainsboro\", \"linecolor\": \"Grey\", \"matches\": \"x4\", \"showticklabels\": false, \"title\": {\"font\": {\"size\": 12}, \"standoff\": 7, \"text\": \"Performance\"}}, \"xaxis4\": {\"anchor\": \"y4\", \"domain\": [0.0, 1.0], \"gridcolor\": \"Gainsboro\", \"linecolor\": \"Grey\", \"title\": {\"font\": {\"size\": 12}, \"standoff\": 7, \"text\": \"Net Worth\"}}, \"yaxis\": {\"anchor\": \"x\", \"domain\": [0.49950000000000006, 1.0], \"gridcolor\": \"Gainsboro\", \"linecolor\": \"Grey\"}, \"yaxis2\": {\"anchor\": \"x2\", \"domain\": [0.333, 0.46950000000000003], \"gridcolor\": \"Gainsboro\", \"linecolor\": \"Grey\"}, \"yaxis3\": {\"anchor\": \"x3\", \"domain\": [0.1665, 0.30300000000000005], \"gridcolor\": \"Gainsboro\", \"linecolor\": \"Grey\"}, \"yaxis4\": {\"anchor\": \"x4\", \"domain\": [0.0, 0.1365], \"gridcolor\": \"Gainsboro\", \"linecolor\": \"Grey\"}},                        {\"responsive\": true}                    ).then(function(){\n",
       "                            \n",
       "var gd = document.getElementById('0d856f93-cadc-40bf-aea8-136c36215cbd');\n",
       "var x = new MutationObserver(function (mutations, observer) {{\n",
       "        var display = window.getComputedStyle(gd).display;\n",
       "        if (!display || display === 'none') {{\n",
       "            console.log([gd, 'removed!']);\n",
       "            Plotly.purge(gd);\n",
       "            observer.disconnect();\n",
       "        }}\n",
       "}});\n",
       "\n",
       "// Listen for the removal of the full notebook cells\n",
       "var notebookContainer = gd.closest('#notebook-container');\n",
       "if (notebookContainer) {{\n",
       "    x.observe(notebookContainer, {childList: true});\n",
       "}}\n",
       "\n",
       "// Listen for the clearing of the current output cell\n",
       "var outputEl = gd.closest('.output');\n",
       "if (outputEl) {{\n",
       "    x.observe(outputEl, {childList: true});\n",
       "}}\n",
       "\n",
       "                        })                };                });            </script>        </div>"
      ]
     },
     "metadata": {},
     "output_type": "display_data"
    }
   ],
   "source": [
    "agent = Agent(env)\n",
    "\n",
    "agent.train(n_steps=200, n_episodes=100, save_path=\"agents/\")"
   ]
  },
  {
   "cell_type": "code",
   "execution_count": null,
   "id": "another-ivory",
   "metadata": {},
   "outputs": [],
   "source": []
  },
  {
   "cell_type": "code",
   "execution_count": null,
   "id": "statutory-drain",
   "metadata": {},
   "outputs": [],
   "source": []
  }
 ],
 "metadata": {
  "kernelspec": {
   "display_name": "Python 3",
   "language": "python",
   "name": "python3"
  },
  "language_info": {
   "codemirror_mode": {
    "name": "ipython",
    "version": 3
   },
   "file_extension": ".py",
   "mimetype": "text/x-python",
   "name": "python",
   "nbconvert_exporter": "python",
   "pygments_lexer": "ipython3",
   "version": "3.8.5"
  }
 },
 "nbformat": 4,
 "nbformat_minor": 5
}
